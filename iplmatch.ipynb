{
 "cells": [
  {
   "cell_type": "code",
   "execution_count": 166,
   "id": "1698d212-899d-44c4-8aad-800576245a80",
   "metadata": {},
   "outputs": [],
   "source": [
    "import pandas as pd\n",
    "from matplotlib import pyplot as plt\n",
    "import numpy as np\n",
    "import seaborn as sns"
   ]
  },
  {
   "cell_type": "code",
   "execution_count": 4,
   "id": "cc53ea23-0cda-4450-b697-77388e90df94",
   "metadata": {},
   "outputs": [],
   "source": [
    "ds = pd.read_csv('matches.csv')"
   ]
  },
  {
   "cell_type": "code",
   "execution_count": 5,
   "id": "1289a49e-bc7a-46e4-8de9-e984516a0774",
   "metadata": {},
   "outputs": [
    {
     "data": {
      "text/plain": [
       "(74, 18)"
      ]
     },
     "execution_count": 5,
     "metadata": {},
     "output_type": "execute_result"
    }
   ],
   "source": [
    "ds.shape"
   ]
  },
  {
   "cell_type": "code",
   "execution_count": 6,
   "id": "3cf9e5cd-2eff-481c-b552-28d8f0fc73fd",
   "metadata": {},
   "outputs": [
    {
     "data": {
      "text/html": [
       "<div>\n",
       "<style scoped>\n",
       "    .dataframe tbody tr th:only-of-type {\n",
       "        vertical-align: middle;\n",
       "    }\n",
       "\n",
       "    .dataframe tbody tr th {\n",
       "        vertical-align: top;\n",
       "    }\n",
       "\n",
       "    .dataframe thead th {\n",
       "        text-align: right;\n",
       "    }\n",
       "</style>\n",
       "<table border=\"1\" class=\"dataframe\">\n",
       "  <thead>\n",
       "    <tr style=\"text-align: right;\">\n",
       "      <th></th>\n",
       "      <th>season</th>\n",
       "      <th>team1</th>\n",
       "      <th>team2</th>\n",
       "      <th>date</th>\n",
       "      <th>match_number</th>\n",
       "      <th>venue</th>\n",
       "      <th>city</th>\n",
       "      <th>toss_winner</th>\n",
       "      <th>toss_decision</th>\n",
       "      <th>player_of_match</th>\n",
       "      <th>umpire1</th>\n",
       "      <th>umpire2</th>\n",
       "      <th>reserve_umpire</th>\n",
       "      <th>match_referee</th>\n",
       "      <th>winner</th>\n",
       "      <th>winner_runs</th>\n",
       "      <th>winner_wickets</th>\n",
       "      <th>match_type</th>\n",
       "    </tr>\n",
       "  </thead>\n",
       "  <tbody>\n",
       "    <tr>\n",
       "      <th>0</th>\n",
       "      <td>2023</td>\n",
       "      <td>Chennai Super Kings</td>\n",
       "      <td>Gujarat Titans</td>\n",
       "      <td>2023/03/31</td>\n",
       "      <td>1</td>\n",
       "      <td>Narendra Modi Stadium</td>\n",
       "      <td>Ahmedabad</td>\n",
       "      <td>Gujarat Titans</td>\n",
       "      <td>field</td>\n",
       "      <td>Rashid Khan</td>\n",
       "      <td>Nitin Menon</td>\n",
       "      <td>HAS Khalid</td>\n",
       "      <td>A Bengeri</td>\n",
       "      <td>J Srinath</td>\n",
       "      <td>Gujarat Titans</td>\n",
       "      <td>NaN</td>\n",
       "      <td>5.0</td>\n",
       "      <td>Group</td>\n",
       "    </tr>\n",
       "    <tr>\n",
       "      <th>1</th>\n",
       "      <td>2023</td>\n",
       "      <td>Punjab Kings</td>\n",
       "      <td>Kolkata Knight Riders</td>\n",
       "      <td>2023/04/01</td>\n",
       "      <td>2</td>\n",
       "      <td>Punjab Cricket Association IS Bindra Stadium</td>\n",
       "      <td>Chandigarh</td>\n",
       "      <td>Kolkata Knight Riders</td>\n",
       "      <td>field</td>\n",
       "      <td>Arshdeep Singh</td>\n",
       "      <td>BNJ Oxenford</td>\n",
       "      <td>YC Barde</td>\n",
       "      <td>PM Joshi</td>\n",
       "      <td>M Nayyar</td>\n",
       "      <td>Punjab Kings</td>\n",
       "      <td>7.0</td>\n",
       "      <td>NaN</td>\n",
       "      <td>Group</td>\n",
       "    </tr>\n",
       "    <tr>\n",
       "      <th>2</th>\n",
       "      <td>2023</td>\n",
       "      <td>Lucknow Super Giants</td>\n",
       "      <td>Delhi Capitals</td>\n",
       "      <td>2023/04/01</td>\n",
       "      <td>3</td>\n",
       "      <td>Bharat Ratna Shri Atal Bihari Vajpayee Ekana C...</td>\n",
       "      <td>Lucknow</td>\n",
       "      <td>Delhi Capitals</td>\n",
       "      <td>field</td>\n",
       "      <td>MA Wood</td>\n",
       "      <td>AK Chaudhary</td>\n",
       "      <td>NA Patwardhan</td>\n",
       "      <td>M Kuppuraj</td>\n",
       "      <td>DS Manohar</td>\n",
       "      <td>Lucknow Super Giants</td>\n",
       "      <td>50.0</td>\n",
       "      <td>NaN</td>\n",
       "      <td>Group</td>\n",
       "    </tr>\n",
       "    <tr>\n",
       "      <th>3</th>\n",
       "      <td>2023</td>\n",
       "      <td>Rajasthan Royals</td>\n",
       "      <td>Sunrisers Hyderabad</td>\n",
       "      <td>2023/04/02</td>\n",
       "      <td>4</td>\n",
       "      <td>Rajiv Gandhi International Stadium</td>\n",
       "      <td>Hyderabad</td>\n",
       "      <td>Sunrisers Hyderabad</td>\n",
       "      <td>field</td>\n",
       "      <td>JC Buttler</td>\n",
       "      <td>KN Ananthapadmanabhan</td>\n",
       "      <td>R Pandit</td>\n",
       "      <td>Abhijit Bhattacharya</td>\n",
       "      <td>V Narayan Kutty</td>\n",
       "      <td>Rajasthan Royals</td>\n",
       "      <td>72.0</td>\n",
       "      <td>NaN</td>\n",
       "      <td>Group</td>\n",
       "    </tr>\n",
       "    <tr>\n",
       "      <th>4</th>\n",
       "      <td>2023</td>\n",
       "      <td>Mumbai Indians</td>\n",
       "      <td>Royal Challengers Bangalore</td>\n",
       "      <td>2023/04/02</td>\n",
       "      <td>5</td>\n",
       "      <td>M Chinnaswamy Stadium</td>\n",
       "      <td>Bengaluru</td>\n",
       "      <td>Royal Challengers Bangalore</td>\n",
       "      <td>field</td>\n",
       "      <td>F du Plessis</td>\n",
       "      <td>Nitin Menon</td>\n",
       "      <td>Tapan Sharma</td>\n",
       "      <td>A Bengeri</td>\n",
       "      <td>J Srinath</td>\n",
       "      <td>Royal Challengers Bangalore</td>\n",
       "      <td>NaN</td>\n",
       "      <td>8.0</td>\n",
       "      <td>Group</td>\n",
       "    </tr>\n",
       "  </tbody>\n",
       "</table>\n",
       "</div>"
      ],
      "text/plain": [
       "   season                 team1                        team2        date  \\\n",
       "0    2023   Chennai Super Kings               Gujarat Titans  2023/03/31   \n",
       "1    2023          Punjab Kings        Kolkata Knight Riders  2023/04/01   \n",
       "2    2023  Lucknow Super Giants               Delhi Capitals  2023/04/01   \n",
       "3    2023      Rajasthan Royals          Sunrisers Hyderabad  2023/04/02   \n",
       "4    2023        Mumbai Indians  Royal Challengers Bangalore  2023/04/02   \n",
       "\n",
       "   match_number                                              venue  \\\n",
       "0             1                              Narendra Modi Stadium   \n",
       "1             2       Punjab Cricket Association IS Bindra Stadium   \n",
       "2             3  Bharat Ratna Shri Atal Bihari Vajpayee Ekana C...   \n",
       "3             4                 Rajiv Gandhi International Stadium   \n",
       "4             5                              M Chinnaswamy Stadium   \n",
       "\n",
       "         city                  toss_winner toss_decision player_of_match  \\\n",
       "0   Ahmedabad               Gujarat Titans         field     Rashid Khan   \n",
       "1  Chandigarh        Kolkata Knight Riders         field  Arshdeep Singh   \n",
       "2     Lucknow               Delhi Capitals         field         MA Wood   \n",
       "3   Hyderabad          Sunrisers Hyderabad         field      JC Buttler   \n",
       "4   Bengaluru  Royal Challengers Bangalore         field    F du Plessis   \n",
       "\n",
       "                 umpire1        umpire2        reserve_umpire  \\\n",
       "0            Nitin Menon     HAS Khalid             A Bengeri   \n",
       "1           BNJ Oxenford       YC Barde              PM Joshi   \n",
       "2           AK Chaudhary  NA Patwardhan            M Kuppuraj   \n",
       "3  KN Ananthapadmanabhan       R Pandit  Abhijit Bhattacharya   \n",
       "4            Nitin Menon   Tapan Sharma             A Bengeri   \n",
       "\n",
       "     match_referee                       winner  winner_runs  winner_wickets  \\\n",
       "0        J Srinath               Gujarat Titans          NaN             5.0   \n",
       "1         M Nayyar                 Punjab Kings          7.0             NaN   \n",
       "2       DS Manohar         Lucknow Super Giants         50.0             NaN   \n",
       "3  V Narayan Kutty             Rajasthan Royals         72.0             NaN   \n",
       "4        J Srinath  Royal Challengers Bangalore          NaN             8.0   \n",
       "\n",
       "  match_type  \n",
       "0      Group  \n",
       "1      Group  \n",
       "2      Group  \n",
       "3      Group  \n",
       "4      Group  "
      ]
     },
     "execution_count": 6,
     "metadata": {},
     "output_type": "execute_result"
    }
   ],
   "source": [
    "ds.head()"
   ]
  },
  {
   "cell_type": "code",
   "execution_count": 8,
   "id": "945dbf74-0417-4fd9-a79c-f6e42bf42f96",
   "metadata": {},
   "outputs": [
    {
     "data": {
      "text/plain": [
       "player_of_match\n",
       "Shubman Gill       4\n",
       "YBK Jaiswal        4\n",
       "MP Stoinis         3\n",
       "DP Conway          3\n",
       "RA Jadeja          3\n",
       "N Pooran           2\n",
       "RD Gaikwad         2\n",
       "SA Yadav           2\n",
       "CV Varun           2\n",
       "C Green            2\n",
       "V Kohli            2\n",
       "MM Sharma          2\n",
       "Rashid Khan        2\n",
       "F du Plessis       2\n",
       "RK Singh           2\n",
       "S Dhawan           1\n",
       "GD Phillips        1\n",
       "J Little           1\n",
       "MR Marsh           1\n",
       "Mohammed Shami     1\n",
       "Ishan Kishan       1\n",
       "M Pathirana        1\n",
       "PD Salt            1\n",
       "AD Russell         1\n",
       "JC Buttler         1\n",
       "PN Mankad          1\n",
       "P Simran Singh     1\n",
       "WD Parnell         1\n",
       "RR Rossouw         1\n",
       "D Padikkal         1\n",
       "MA Wood            1\n",
       "MM Ali             1\n",
       "A Manohar          1\n",
       "AR Patel           1\n",
       "AM Rahane          1\n",
       "RG Sharma          1\n",
       "R Ashwin           1\n",
       "KH Pandya          1\n",
       "HC Brook           1\n",
       "SN Thakur          1\n",
       "Sikandar Raza      1\n",
       "VR Iyer            1\n",
       "SO Hetmyer         1\n",
       "NT Ellis           1\n",
       "B Sai Sudharsan    1\n",
       "Arshdeep Singh     1\n",
       "Mohammed Siraj     1\n",
       "I Sharma           1\n",
       "SM Curran          1\n",
       "GJ Maxwell         1\n",
       "Akash Madhwal      1\n",
       "Name: count, dtype: int64"
      ]
     },
     "execution_count": 8,
     "metadata": {},
     "output_type": "execute_result"
    }
   ],
   "source": [
    "ds['player_of_match'].value_counts()"
   ]
  },
  {
   "cell_type": "code",
   "execution_count": 29,
   "id": "53624ce6-6c9b-4e89-84f0-9133b84cd78d",
   "metadata": {},
   "outputs": [
    {
     "data": {
      "text/plain": [
       "Index(['Shubman Gill', 'YBK Jaiswal', 'MP Stoinis', 'DP Conway', 'RA Jadeja',\n",
       "       'N Pooran', 'RD Gaikwad', 'SA Yadav', 'CV Varun', 'C Green'],\n",
       "      dtype='object', name='player_of_match')"
      ]
     },
     "execution_count": 29,
     "metadata": {},
     "output_type": "execute_result"
    }
   ],
   "source": [
    "# pom = ds['player_of_match'].value_counts()[0:10].keys()\n",
    "# pom"
   ]
  },
  {
   "cell_type": "code",
   "execution_count": 33,
   "id": "c40835a6-b04a-46c9-811a-cb49ee1c68b4",
   "metadata": {},
   "outputs": [
    {
     "data": {
      "text/plain": [
       "player_of_match\n",
       "Shubman Gill    4\n",
       "YBK Jaiswal     4\n",
       "MP Stoinis      3\n",
       "DP Conway       3\n",
       "RA Jadeja       3\n",
       "N Pooran        2\n",
       "RD Gaikwad      2\n",
       "SA Yadav        2\n",
       "CV Varun        2\n",
       "C Green         2\n",
       "Name: count, dtype: int64"
      ]
     },
     "execution_count": 33,
     "metadata": {},
     "output_type": "execute_result"
    }
   ],
   "source": [
    "ds['player_of_match'].value_counts()[0:10]"
   ]
  },
  {
   "cell_type": "code",
   "execution_count": 51,
   "id": "d296ba4f-6e1c-4687-8632-4bba6d836fcb",
   "metadata": {},
   "outputs": [
    {
     "data": {
      "image/png": "[encoded data removed]",
      "text/plain": [
       "<Figure size 800x500 with 1 Axes>"
      ]
     },
     "metadata": {},
     "output_type": "display_data"
    }
   ],
   "source": [
    "plt.figure(figsize=(8,5))\n",
    "key = list(ds['player_of_match'].value_counts()[0:5].keys())\n",
    "value = list(ds['player_of_match'].value_counts()[0:5])\n",
    "plt.bar(key,value,color='g')\n",
    "plt.show()\n"
   ]
  },
  {
   "cell_type": "code",
   "execution_count": 53,
   "id": "7f9e58b9-4405-40c9-a8d5-57fd602d6e2f",
   "metadata": {},
   "outputs": [
    {
     "data": {
      "text/plain": [
       "winner\n",
       "Gujarat Titans                 11\n",
       "Chennai Super Kings            10\n",
       "Mumbai Indians                  9\n",
       "Lucknow Super Giants            8\n",
       "Rajasthan Royals                7\n",
       "Royal Challengers Bangalore     7\n",
       "Punjab Kings                    6\n",
       "Kolkata Knight Riders           6\n",
       "Delhi Capitals                  5\n",
       "Sunrisers Hyderabad             4\n",
       "No Result                       1\n",
       "Name: count, dtype: int64"
      ]
     },
     "execution_count": 53,
     "metadata": {},
     "output_type": "execute_result"
    }
   ],
   "source": [
    "ds['winner'].value_counts()"
   ]
  },
  {
   "cell_type": "code",
   "execution_count": 54,
   "id": "c611c4d4-d096-4bf0-91d1-46b0947cee55",
   "metadata": {},
   "outputs": [
    {
     "data": {
      "text/plain": [
       "(17863, 22)"
      ]
     },
     "execution_count": 54,
     "metadata": {},
     "output_type": "execute_result"
    }
   ],
   "source": [
    "ds2 = pd.read_csv('deliveries.csv')\n",
    "ds2.shape"
   ]
  },
  {
   "cell_type": "code",
   "execution_count": 55,
   "id": "88d027f6-4ccf-4b5c-af3d-d0f0c852f4f3",
   "metadata": {},
   "outputs": [
    {
     "data": {
      "text/html": [
       "<div>\n",
       "<style scoped>\n",
       "    .dataframe tbody tr th:only-of-type {\n",
       "        vertical-align: middle;\n",
       "    }\n",
       "\n",
       "    .dataframe tbody tr th {\n",
       "        vertical-align: top;\n",
       "    }\n",
       "\n",
       "    .dataframe thead th {\n",
       "        text-align: right;\n",
       "    }\n",
       "</style>\n",
       "<table border=\"1\" class=\"dataframe\">\n",
       "  <thead>\n",
       "    <tr style=\"text-align: right;\">\n",
       "      <th></th>\n",
       "      <th>match_id</th>\n",
       "      <th>season</th>\n",
       "      <th>start_date</th>\n",
       "      <th>venue</th>\n",
       "      <th>innings</th>\n",
       "      <th>ball</th>\n",
       "      <th>batting_team</th>\n",
       "      <th>bowling_team</th>\n",
       "      <th>striker</th>\n",
       "      <th>non_striker</th>\n",
       "      <th>...</th>\n",
       "      <th>extras</th>\n",
       "      <th>wides</th>\n",
       "      <th>noballs</th>\n",
       "      <th>byes</th>\n",
       "      <th>legbyes</th>\n",
       "      <th>penalty</th>\n",
       "      <th>wicket_type</th>\n",
       "      <th>player_dismissed</th>\n",
       "      <th>other_wicket_type</th>\n",
       "      <th>other_player_dismissed</th>\n",
       "    </tr>\n",
       "  </thead>\n",
       "  <tbody>\n",
       "    <tr>\n",
       "      <th>0</th>\n",
       "      <td>1359475</td>\n",
       "      <td>2023</td>\n",
       "      <td>2023-03-31</td>\n",
       "      <td>Narendra Modi Stadium, Ahmedabad</td>\n",
       "      <td>1</td>\n",
       "      <td>0.1</td>\n",
       "      <td>Chennai Super Kings</td>\n",
       "      <td>Gujarat Titans</td>\n",
       "      <td>DP Conway</td>\n",
       "      <td>RD Gaikwad</td>\n",
       "      <td>...</td>\n",
       "      <td>0</td>\n",
       "      <td>NaN</td>\n",
       "      <td>NaN</td>\n",
       "      <td>NaN</td>\n",
       "      <td>NaN</td>\n",
       "      <td>NaN</td>\n",
       "      <td>NaN</td>\n",
       "      <td>NaN</td>\n",
       "      <td>NaN</td>\n",
       "      <td>NaN</td>\n",
       "    </tr>\n",
       "    <tr>\n",
       "      <th>1</th>\n",
       "      <td>1359475</td>\n",
       "      <td>2023</td>\n",
       "      <td>2023-03-31</td>\n",
       "      <td>Narendra Modi Stadium, Ahmedabad</td>\n",
       "      <td>1</td>\n",
       "      <td>0.2</td>\n",
       "      <td>Chennai Super Kings</td>\n",
       "      <td>Gujarat Titans</td>\n",
       "      <td>DP Conway</td>\n",
       "      <td>RD Gaikwad</td>\n",
       "      <td>...</td>\n",
       "      <td>1</td>\n",
       "      <td>NaN</td>\n",
       "      <td>NaN</td>\n",
       "      <td>NaN</td>\n",
       "      <td>1.0</td>\n",
       "      <td>NaN</td>\n",
       "      <td>NaN</td>\n",
       "      <td>NaN</td>\n",
       "      <td>NaN</td>\n",
       "      <td>NaN</td>\n",
       "    </tr>\n",
       "    <tr>\n",
       "      <th>2</th>\n",
       "      <td>1359475</td>\n",
       "      <td>2023</td>\n",
       "      <td>2023-03-31</td>\n",
       "      <td>Narendra Modi Stadium, Ahmedabad</td>\n",
       "      <td>1</td>\n",
       "      <td>0.3</td>\n",
       "      <td>Chennai Super Kings</td>\n",
       "      <td>Gujarat Titans</td>\n",
       "      <td>RD Gaikwad</td>\n",
       "      <td>DP Conway</td>\n",
       "      <td>...</td>\n",
       "      <td>0</td>\n",
       "      <td>NaN</td>\n",
       "      <td>NaN</td>\n",
       "      <td>NaN</td>\n",
       "      <td>NaN</td>\n",
       "      <td>NaN</td>\n",
       "      <td>NaN</td>\n",
       "      <td>NaN</td>\n",
       "      <td>NaN</td>\n",
       "      <td>NaN</td>\n",
       "    </tr>\n",
       "    <tr>\n",
       "      <th>3</th>\n",
       "      <td>1359475</td>\n",
       "      <td>2023</td>\n",
       "      <td>2023-03-31</td>\n",
       "      <td>Narendra Modi Stadium, Ahmedabad</td>\n",
       "      <td>1</td>\n",
       "      <td>0.4</td>\n",
       "      <td>Chennai Super Kings</td>\n",
       "      <td>Gujarat Titans</td>\n",
       "      <td>RD Gaikwad</td>\n",
       "      <td>DP Conway</td>\n",
       "      <td>...</td>\n",
       "      <td>0</td>\n",
       "      <td>NaN</td>\n",
       "      <td>NaN</td>\n",
       "      <td>NaN</td>\n",
       "      <td>NaN</td>\n",
       "      <td>NaN</td>\n",
       "      <td>NaN</td>\n",
       "      <td>NaN</td>\n",
       "      <td>NaN</td>\n",
       "      <td>NaN</td>\n",
       "    </tr>\n",
       "    <tr>\n",
       "      <th>4</th>\n",
       "      <td>1359475</td>\n",
       "      <td>2023</td>\n",
       "      <td>2023-03-31</td>\n",
       "      <td>Narendra Modi Stadium, Ahmedabad</td>\n",
       "      <td>1</td>\n",
       "      <td>0.5</td>\n",
       "      <td>Chennai Super Kings</td>\n",
       "      <td>Gujarat Titans</td>\n",
       "      <td>DP Conway</td>\n",
       "      <td>RD Gaikwad</td>\n",
       "      <td>...</td>\n",
       "      <td>0</td>\n",
       "      <td>NaN</td>\n",
       "      <td>NaN</td>\n",
       "      <td>NaN</td>\n",
       "      <td>NaN</td>\n",
       "      <td>NaN</td>\n",
       "      <td>NaN</td>\n",
       "      <td>NaN</td>\n",
       "      <td>NaN</td>\n",
       "      <td>NaN</td>\n",
       "    </tr>\n",
       "  </tbody>\n",
       "</table>\n",
       "<p>5 rows × 22 columns</p>\n",
       "</div>"
      ],
      "text/plain": [
       "   match_id  season  start_date                             venue  innings  \\\n",
       "0   1359475    2023  2023-03-31  Narendra Modi Stadium, Ahmedabad        1   \n",
       "1   1359475    2023  2023-03-31  Narendra Modi Stadium, Ahmedabad        1   \n",
       "2   1359475    2023  2023-03-31  Narendra Modi Stadium, Ahmedabad        1   \n",
       "3   1359475    2023  2023-03-31  Narendra Modi Stadium, Ahmedabad        1   \n",
       "4   1359475    2023  2023-03-31  Narendra Modi Stadium, Ahmedabad        1   \n",
       "\n",
       "   ball         batting_team    bowling_team     striker non_striker  ...  \\\n",
       "0   0.1  Chennai Super Kings  Gujarat Titans   DP Conway  RD Gaikwad  ...   \n",
       "1   0.2  Chennai Super Kings  Gujarat Titans   DP Conway  RD Gaikwad  ...   \n",
       "2   0.3  Chennai Super Kings  Gujarat Titans  RD Gaikwad   DP Conway  ...   \n",
       "3   0.4  Chennai Super Kings  Gujarat Titans  RD Gaikwad   DP Conway  ...   \n",
       "4   0.5  Chennai Super Kings  Gujarat Titans   DP Conway  RD Gaikwad  ...   \n",
       "\n",
       "  extras  wides  noballs  byes  legbyes  penalty  wicket_type  \\\n",
       "0      0    NaN      NaN   NaN      NaN      NaN          NaN   \n",
       "1      1    NaN      NaN   NaN      1.0      NaN          NaN   \n",
       "2      0    NaN      NaN   NaN      NaN      NaN          NaN   \n",
       "3      0    NaN      NaN   NaN      NaN      NaN          NaN   \n",
       "4      0    NaN      NaN   NaN      NaN      NaN          NaN   \n",
       "\n",
       "   player_dismissed other_wicket_type other_player_dismissed  \n",
       "0               NaN               NaN                    NaN  \n",
       "1               NaN               NaN                    NaN  \n",
       "2               NaN               NaN                    NaN  \n",
       "3               NaN               NaN                    NaN  \n",
       "4               NaN               NaN                    NaN  \n",
       "\n",
       "[5 rows x 22 columns]"
      ]
     },
     "execution_count": 55,
     "metadata": {},
     "output_type": "execute_result"
    }
   ],
   "source": [
    "ds2.head()"
   ]
  },
  {
   "cell_type": "code",
   "execution_count": 56,
   "id": "aca0ce79-9c7e-4b7a-b233-118234329b9e",
   "metadata": {},
   "outputs": [
    {
     "data": {
      "text/html": [
       "<div>\n",
       "<style scoped>\n",
       "    .dataframe tbody tr th:only-of-type {\n",
       "        vertical-align: middle;\n",
       "    }\n",
       "\n",
       "    .dataframe tbody tr th {\n",
       "        vertical-align: top;\n",
       "    }\n",
       "\n",
       "    .dataframe thead th {\n",
       "        text-align: right;\n",
       "    }\n",
       "</style>\n",
       "<table border=\"1\" class=\"dataframe\">\n",
       "  <thead>\n",
       "    <tr style=\"text-align: right;\">\n",
       "      <th></th>\n",
       "      <th>season</th>\n",
       "      <th>team1</th>\n",
       "      <th>team2</th>\n",
       "      <th>date</th>\n",
       "      <th>match_number</th>\n",
       "      <th>venue</th>\n",
       "      <th>city</th>\n",
       "      <th>toss_winner</th>\n",
       "      <th>toss_decision</th>\n",
       "      <th>player_of_match</th>\n",
       "      <th>umpire1</th>\n",
       "      <th>umpire2</th>\n",
       "      <th>reserve_umpire</th>\n",
       "      <th>match_referee</th>\n",
       "      <th>winner</th>\n",
       "      <th>winner_runs</th>\n",
       "      <th>winner_wickets</th>\n",
       "      <th>match_type</th>\n",
       "    </tr>\n",
       "  </thead>\n",
       "  <tbody>\n",
       "    <tr>\n",
       "      <th>0</th>\n",
       "      <td>2023</td>\n",
       "      <td>Chennai Super Kings</td>\n",
       "      <td>Gujarat Titans</td>\n",
       "      <td>2023/03/31</td>\n",
       "      <td>1</td>\n",
       "      <td>Narendra Modi Stadium</td>\n",
       "      <td>Ahmedabad</td>\n",
       "      <td>Gujarat Titans</td>\n",
       "      <td>field</td>\n",
       "      <td>Rashid Khan</td>\n",
       "      <td>Nitin Menon</td>\n",
       "      <td>HAS Khalid</td>\n",
       "      <td>A Bengeri</td>\n",
       "      <td>J Srinath</td>\n",
       "      <td>Gujarat Titans</td>\n",
       "      <td>NaN</td>\n",
       "      <td>5.0</td>\n",
       "      <td>Group</td>\n",
       "    </tr>\n",
       "    <tr>\n",
       "      <th>1</th>\n",
       "      <td>2023</td>\n",
       "      <td>Punjab Kings</td>\n",
       "      <td>Kolkata Knight Riders</td>\n",
       "      <td>2023/04/01</td>\n",
       "      <td>2</td>\n",
       "      <td>Punjab Cricket Association IS Bindra Stadium</td>\n",
       "      <td>Chandigarh</td>\n",
       "      <td>Kolkata Knight Riders</td>\n",
       "      <td>field</td>\n",
       "      <td>Arshdeep Singh</td>\n",
       "      <td>BNJ Oxenford</td>\n",
       "      <td>YC Barde</td>\n",
       "      <td>PM Joshi</td>\n",
       "      <td>M Nayyar</td>\n",
       "      <td>Punjab Kings</td>\n",
       "      <td>7.0</td>\n",
       "      <td>NaN</td>\n",
       "      <td>Group</td>\n",
       "    </tr>\n",
       "    <tr>\n",
       "      <th>2</th>\n",
       "      <td>2023</td>\n",
       "      <td>Lucknow Super Giants</td>\n",
       "      <td>Delhi Capitals</td>\n",
       "      <td>2023/04/01</td>\n",
       "      <td>3</td>\n",
       "      <td>Bharat Ratna Shri Atal Bihari Vajpayee Ekana C...</td>\n",
       "      <td>Lucknow</td>\n",
       "      <td>Delhi Capitals</td>\n",
       "      <td>field</td>\n",
       "      <td>MA Wood</td>\n",
       "      <td>AK Chaudhary</td>\n",
       "      <td>NA Patwardhan</td>\n",
       "      <td>M Kuppuraj</td>\n",
       "      <td>DS Manohar</td>\n",
       "      <td>Lucknow Super Giants</td>\n",
       "      <td>50.0</td>\n",
       "      <td>NaN</td>\n",
       "      <td>Group</td>\n",
       "    </tr>\n",
       "    <tr>\n",
       "      <th>3</th>\n",
       "      <td>2023</td>\n",
       "      <td>Rajasthan Royals</td>\n",
       "      <td>Sunrisers Hyderabad</td>\n",
       "      <td>2023/04/02</td>\n",
       "      <td>4</td>\n",
       "      <td>Rajiv Gandhi International Stadium</td>\n",
       "      <td>Hyderabad</td>\n",
       "      <td>Sunrisers Hyderabad</td>\n",
       "      <td>field</td>\n",
       "      <td>JC Buttler</td>\n",
       "      <td>KN Ananthapadmanabhan</td>\n",
       "      <td>R Pandit</td>\n",
       "      <td>Abhijit Bhattacharya</td>\n",
       "      <td>V Narayan Kutty</td>\n",
       "      <td>Rajasthan Royals</td>\n",
       "      <td>72.0</td>\n",
       "      <td>NaN</td>\n",
       "      <td>Group</td>\n",
       "    </tr>\n",
       "    <tr>\n",
       "      <th>4</th>\n",
       "      <td>2023</td>\n",
       "      <td>Mumbai Indians</td>\n",
       "      <td>Royal Challengers Bangalore</td>\n",
       "      <td>2023/04/02</td>\n",
       "      <td>5</td>\n",
       "      <td>M Chinnaswamy Stadium</td>\n",
       "      <td>Bengaluru</td>\n",
       "      <td>Royal Challengers Bangalore</td>\n",
       "      <td>field</td>\n",
       "      <td>F du Plessis</td>\n",
       "      <td>Nitin Menon</td>\n",
       "      <td>Tapan Sharma</td>\n",
       "      <td>A Bengeri</td>\n",
       "      <td>J Srinath</td>\n",
       "      <td>Royal Challengers Bangalore</td>\n",
       "      <td>NaN</td>\n",
       "      <td>8.0</td>\n",
       "      <td>Group</td>\n",
       "    </tr>\n",
       "  </tbody>\n",
       "</table>\n",
       "</div>"
      ],
      "text/plain": [
       "   season                 team1                        team2        date  \\\n",
       "0    2023   Chennai Super Kings               Gujarat Titans  2023/03/31   \n",
       "1    2023          Punjab Kings        Kolkata Knight Riders  2023/04/01   \n",
       "2    2023  Lucknow Super Giants               Delhi Capitals  2023/04/01   \n",
       "3    2023      Rajasthan Royals          Sunrisers Hyderabad  2023/04/02   \n",
       "4    2023        Mumbai Indians  Royal Challengers Bangalore  2023/04/02   \n",
       "\n",
       "   match_number                                              venue  \\\n",
       "0             1                              Narendra Modi Stadium   \n",
       "1             2       Punjab Cricket Association IS Bindra Stadium   \n",
       "2             3  Bharat Ratna Shri Atal Bihari Vajpayee Ekana C...   \n",
       "3             4                 Rajiv Gandhi International Stadium   \n",
       "4             5                              M Chinnaswamy Stadium   \n",
       "\n",
       "         city                  toss_winner toss_decision player_of_match  \\\n",
       "0   Ahmedabad               Gujarat Titans         field     Rashid Khan   \n",
       "1  Chandigarh        Kolkata Knight Riders         field  Arshdeep Singh   \n",
       "2     Lucknow               Delhi Capitals         field         MA Wood   \n",
       "3   Hyderabad          Sunrisers Hyderabad         field      JC Buttler   \n",
       "4   Bengaluru  Royal Challengers Bangalore         field    F du Plessis   \n",
       "\n",
       "                 umpire1        umpire2        reserve_umpire  \\\n",
       "0            Nitin Menon     HAS Khalid             A Bengeri   \n",
       "1           BNJ Oxenford       YC Barde              PM Joshi   \n",
       "2           AK Chaudhary  NA Patwardhan            M Kuppuraj   \n",
       "3  KN Ananthapadmanabhan       R Pandit  Abhijit Bhattacharya   \n",
       "4            Nitin Menon   Tapan Sharma             A Bengeri   \n",
       "\n",
       "     match_referee                       winner  winner_runs  winner_wickets  \\\n",
       "0        J Srinath               Gujarat Titans          NaN             5.0   \n",
       "1         M Nayyar                 Punjab Kings          7.0             NaN   \n",
       "2       DS Manohar         Lucknow Super Giants         50.0             NaN   \n",
       "3  V Narayan Kutty             Rajasthan Royals         72.0             NaN   \n",
       "4        J Srinath  Royal Challengers Bangalore          NaN             8.0   \n",
       "\n",
       "  match_type  \n",
       "0      Group  \n",
       "1      Group  \n",
       "2      Group  \n",
       "3      Group  \n",
       "4      Group  "
      ]
     },
     "execution_count": 56,
     "metadata": {},
     "output_type": "execute_result"
    }
   ],
   "source": [
    "ds.head()"
   ]
  },
  {
   "cell_type": "code",
   "execution_count": 57,
   "id": "75d400ae-78da-43b6-bb3b-f360b9fff06b",
   "metadata": {},
   "outputs": [
    {
     "data": {
      "text/plain": [
       "city\n",
       "Ahmedabad     9\n",
       "Chennai       9\n",
       "Lucknow       7\n",
       "Hyderabad     7\n",
       "Bengaluru     7\n",
       "Delhi         7\n",
       "Kolkata       7\n",
       "Mumbai        7\n",
       "Chandigarh    5\n",
       "Jaipur        5\n",
       "Guwahati      2\n",
       "Dharamsala    2\n",
       "Name: count, dtype: int64"
      ]
     },
     "execution_count": 57,
     "metadata": {},
     "output_type": "execute_result"
    }
   ],
   "source": [
    "ds['city'].value_counts()"
   ]
  },
  {
   "cell_type": "code",
   "execution_count": 58,
   "id": "cee594da-7f17-4d63-a35b-13e4b99a066b",
   "metadata": {},
   "outputs": [
    {
     "data": {
      "text/plain": [
       "venue\n",
       "Narendra Modi Stadium                                           9\n",
       "MA Chidambaram Stadium                                          9\n",
       "Bharat Ratna Shri Atal Bihari Vajpayee Ekana Cricket Stadium    7\n",
       "Rajiv Gandhi International Stadium                              7\n",
       "M Chinnaswamy Stadium                                           7\n",
       "Arun Jaitley Stadium                                            7\n",
       "Eden Gardens                                                    7\n",
       "Wankhede Stadium                                                7\n",
       "Punjab Cricket Association IS Bindra Stadium                    5\n",
       "Sawai Mansingh Stadium                                          5\n",
       "Barsapara Cricket Stadium                                       2\n",
       "Himachal Pradesh Cricket Association Stadium                    2\n",
       "Name: count, dtype: int64"
      ]
     },
     "execution_count": 58,
     "metadata": {},
     "output_type": "execute_result"
    }
   ],
   "source": [
    "ds['venue'].value_counts()"
   ]
  },
  {
   "cell_type": "code",
   "execution_count": 59,
   "id": "635179e9-193f-4d19-a8ec-6631b4779dd1",
   "metadata": {},
   "outputs": [
    {
     "data": {
      "text/plain": [
       "toss_winner\n",
       "Rajasthan Royals               10\n",
       "Chennai Super Kings            10\n",
       "Mumbai Indians                 10\n",
       "Gujarat Titans                  9\n",
       "Royal Challengers Bangalore     8\n",
       "Delhi Capitals                  7\n",
       "Sunrisers Hyderabad             7\n",
       "Kolkata Knight Riders           5\n",
       "Punjab Kings                    5\n",
       "Lucknow Super Giants            3\n",
       "Name: count, dtype: int64"
      ]
     },
     "execution_count": 59,
     "metadata": {},
     "output_type": "execute_result"
    }
   ],
   "source": [
    "ds['toss_winner'].value_counts()"
   ]
  },
  {
   "cell_type": "code",
   "execution_count": 62,
   "id": "d0246588-bd2c-47c4-88d7-d7f1f9918b72",
   "metadata": {},
   "outputs": [
    {
     "data": {
      "text/plain": [
       "([<matplotlib.patches.Wedge at 0x1e11aefa1d0>,\n",
       "  <matplotlib.patches.Wedge at 0x1e11aefb290>,\n",
       "  <matplotlib.patches.Wedge at 0x1e11af08810>,\n",
       "  <matplotlib.patches.Wedge at 0x1e11af09e90>,\n",
       "  <matplotlib.patches.Wedge at 0x1e11af0b4d0>,\n",
       "  <matplotlib.patches.Wedge at 0x1e11af14cd0>,\n",
       "  <matplotlib.patches.Wedge at 0x1e11af16510>,\n",
       "  <matplotlib.patches.Wedge at 0x1e11af17c10>,\n",
       "  <matplotlib.patches.Wedge at 0x1e11af0b5d0>,\n",
       "  <matplotlib.patches.Wedge at 0x1e11af2a950>],\n",
       " [Text(1.002351348025897, 0.4530913540453705, 'Rajasthan Royals'),\n",
       "  Text(0.32210510828769334, 1.0517833898740623, 'Chennai Super Kings'),\n",
       "  Text(-0.5767379230293342, 0.9366821062344524, 'Mumbai Indians'),\n",
       "  Text(-1.0753107379193705, 0.23174731263878534, 'Gujarat Titans'),\n",
       "  Text(-0.960315574365354, -0.5364643488912757, 'Royal Challengers Bangalore'),\n",
       "  Text(-0.45309144789227496, -1.0023513056044184, 'Delhi Capitals'),\n",
       "  Text(0.18590084336964147, -1.0841775114963674, 'Sunrisers Hyderabad'),\n",
       "  Text(0.691041951004907, -0.8558393669090784, 'Kolkata Knight Riders'),\n",
       "  Text(0.9822184079367102, -0.4952241907563426, 'Punjab Kings'),\n",
       "  Text(1.0910904664987635, -0.13971969766468498, 'Lucknow Super Giants')],\n",
       " [Text(0.5467370989232165, 0.24714073857020205, '13.5%'),\n",
       "  Text(0.17569369542965088, 0.5737000308403976, '13.5%'),\n",
       "  Text(-0.3145843216523641, 0.5109175124915194, '13.5%'),\n",
       "  Text(-0.586533129774202, 0.12640762507570108, '12.2%'),\n",
       "  Text(-0.5238084951083749, -0.29261691757705943, '10.8%'),\n",
       "  Text(-0.24714078975942266, -0.5467370757842281, '9.5%'),\n",
       "  Text(0.10140046001980442, -0.5913695517252913, '9.5%'),\n",
       "  Text(0.37693197327540373, -0.4668214728594972, '6.8%'),\n",
       "  Text(0.5357554952382055, -0.2701222858670959, '6.8%'),\n",
       "  Text(0.5951402544538709, -0.07621074418073724, '4.1%')])"
      ]
     },
     "execution_count": 62,
     "metadata": {},
     "output_type": "execute_result"
    },
    {
     "data": {
      "image/png": "[encoded data removed]",
      "text/plain": [
       "<Figure size 640x480 with 1 Axes>"
      ]
     },
     "metadata": {},
     "output_type": "display_data"
    }
   ],
   "source": [
    "plt.pie(ds['toss_winner'].value_counts(),labels=ds['toss_winner'].value_counts().keys(),autopct='%0.1f%%')"
   ]
  },
  {
   "cell_type": "code",
   "execution_count": 66,
   "id": "8119bae6-3d29-45d7-85a5-df7dfee77aad",
   "metadata": {},
   "outputs": [
    {
     "data": {
      "text/html": [
       "<div>\n",
       "<style scoped>\n",
       "    .dataframe tbody tr th:only-of-type {\n",
       "        vertical-align: middle;\n",
       "    }\n",
       "\n",
       "    .dataframe tbody tr th {\n",
       "        vertical-align: top;\n",
       "    }\n",
       "\n",
       "    .dataframe thead th {\n",
       "        text-align: right;\n",
       "    }\n",
       "</style>\n",
       "<table border=\"1\" class=\"dataframe\">\n",
       "  <thead>\n",
       "    <tr style=\"text-align: right;\">\n",
       "      <th></th>\n",
       "      <th>season</th>\n",
       "      <th>team1</th>\n",
       "      <th>team2</th>\n",
       "      <th>date</th>\n",
       "      <th>match_number</th>\n",
       "      <th>venue</th>\n",
       "      <th>city</th>\n",
       "      <th>toss_winner</th>\n",
       "      <th>toss_decision</th>\n",
       "      <th>player_of_match</th>\n",
       "      <th>umpire1</th>\n",
       "      <th>umpire2</th>\n",
       "      <th>reserve_umpire</th>\n",
       "      <th>match_referee</th>\n",
       "      <th>winner</th>\n",
       "      <th>winner_runs</th>\n",
       "      <th>winner_wickets</th>\n",
       "      <th>match_type</th>\n",
       "    </tr>\n",
       "  </thead>\n",
       "  <tbody>\n",
       "    <tr>\n",
       "      <th>0</th>\n",
       "      <td>2023</td>\n",
       "      <td>Chennai Super Kings</td>\n",
       "      <td>Gujarat Titans</td>\n",
       "      <td>2023/03/31</td>\n",
       "      <td>1</td>\n",
       "      <td>Narendra Modi Stadium</td>\n",
       "      <td>Ahmedabad</td>\n",
       "      <td>Gujarat Titans</td>\n",
       "      <td>field</td>\n",
       "      <td>Rashid Khan</td>\n",
       "      <td>Nitin Menon</td>\n",
       "      <td>HAS Khalid</td>\n",
       "      <td>A Bengeri</td>\n",
       "      <td>J Srinath</td>\n",
       "      <td>Gujarat Titans</td>\n",
       "      <td>NaN</td>\n",
       "      <td>5.0</td>\n",
       "      <td>Group</td>\n",
       "    </tr>\n",
       "    <tr>\n",
       "      <th>1</th>\n",
       "      <td>2023</td>\n",
       "      <td>Punjab Kings</td>\n",
       "      <td>Kolkata Knight Riders</td>\n",
       "      <td>2023/04/01</td>\n",
       "      <td>2</td>\n",
       "      <td>Punjab Cricket Association IS Bindra Stadium</td>\n",
       "      <td>Chandigarh</td>\n",
       "      <td>Kolkata Knight Riders</td>\n",
       "      <td>field</td>\n",
       "      <td>Arshdeep Singh</td>\n",
       "      <td>BNJ Oxenford</td>\n",
       "      <td>YC Barde</td>\n",
       "      <td>PM Joshi</td>\n",
       "      <td>M Nayyar</td>\n",
       "      <td>Punjab Kings</td>\n",
       "      <td>7.0</td>\n",
       "      <td>NaN</td>\n",
       "      <td>Group</td>\n",
       "    </tr>\n",
       "    <tr>\n",
       "      <th>2</th>\n",
       "      <td>2023</td>\n",
       "      <td>Lucknow Super Giants</td>\n",
       "      <td>Delhi Capitals</td>\n",
       "      <td>2023/04/01</td>\n",
       "      <td>3</td>\n",
       "      <td>Bharat Ratna Shri Atal Bihari Vajpayee Ekana C...</td>\n",
       "      <td>Lucknow</td>\n",
       "      <td>Delhi Capitals</td>\n",
       "      <td>field</td>\n",
       "      <td>MA Wood</td>\n",
       "      <td>AK Chaudhary</td>\n",
       "      <td>NA Patwardhan</td>\n",
       "      <td>M Kuppuraj</td>\n",
       "      <td>DS Manohar</td>\n",
       "      <td>Lucknow Super Giants</td>\n",
       "      <td>50.0</td>\n",
       "      <td>NaN</td>\n",
       "      <td>Group</td>\n",
       "    </tr>\n",
       "    <tr>\n",
       "      <th>3</th>\n",
       "      <td>2023</td>\n",
       "      <td>Rajasthan Royals</td>\n",
       "      <td>Sunrisers Hyderabad</td>\n",
       "      <td>2023/04/02</td>\n",
       "      <td>4</td>\n",
       "      <td>Rajiv Gandhi International Stadium</td>\n",
       "      <td>Hyderabad</td>\n",
       "      <td>Sunrisers Hyderabad</td>\n",
       "      <td>field</td>\n",
       "      <td>JC Buttler</td>\n",
       "      <td>KN Ananthapadmanabhan</td>\n",
       "      <td>R Pandit</td>\n",
       "      <td>Abhijit Bhattacharya</td>\n",
       "      <td>V Narayan Kutty</td>\n",
       "      <td>Rajasthan Royals</td>\n",
       "      <td>72.0</td>\n",
       "      <td>NaN</td>\n",
       "      <td>Group</td>\n",
       "    </tr>\n",
       "    <tr>\n",
       "      <th>4</th>\n",
       "      <td>2023</td>\n",
       "      <td>Mumbai Indians</td>\n",
       "      <td>Royal Challengers Bangalore</td>\n",
       "      <td>2023/04/02</td>\n",
       "      <td>5</td>\n",
       "      <td>M Chinnaswamy Stadium</td>\n",
       "      <td>Bengaluru</td>\n",
       "      <td>Royal Challengers Bangalore</td>\n",
       "      <td>field</td>\n",
       "      <td>F du Plessis</td>\n",
       "      <td>Nitin Menon</td>\n",
       "      <td>Tapan Sharma</td>\n",
       "      <td>A Bengeri</td>\n",
       "      <td>J Srinath</td>\n",
       "      <td>Royal Challengers Bangalore</td>\n",
       "      <td>NaN</td>\n",
       "      <td>8.0</td>\n",
       "      <td>Group</td>\n",
       "    </tr>\n",
       "  </tbody>\n",
       "</table>\n",
       "</div>"
      ],
      "text/plain": [
       "   season                 team1                        team2        date  \\\n",
       "0    2023   Chennai Super Kings               Gujarat Titans  2023/03/31   \n",
       "1    2023          Punjab Kings        Kolkata Knight Riders  2023/04/01   \n",
       "2    2023  Lucknow Super Giants               Delhi Capitals  2023/04/01   \n",
       "3    2023      Rajasthan Royals          Sunrisers Hyderabad  2023/04/02   \n",
       "4    2023        Mumbai Indians  Royal Challengers Bangalore  2023/04/02   \n",
       "\n",
       "   match_number                                              venue  \\\n",
       "0             1                              Narendra Modi Stadium   \n",
       "1             2       Punjab Cricket Association IS Bindra Stadium   \n",
       "2             3  Bharat Ratna Shri Atal Bihari Vajpayee Ekana C...   \n",
       "3             4                 Rajiv Gandhi International Stadium   \n",
       "4             5                              M Chinnaswamy Stadium   \n",
       "\n",
       "         city                  toss_winner toss_decision player_of_match  \\\n",
       "0   Ahmedabad               Gujarat Titans         field     Rashid Khan   \n",
       "1  Chandigarh        Kolkata Knight Riders         field  Arshdeep Singh   \n",
       "2     Lucknow               Delhi Capitals         field         MA Wood   \n",
       "3   Hyderabad          Sunrisers Hyderabad         field      JC Buttler   \n",
       "4   Bengaluru  Royal Challengers Bangalore         field    F du Plessis   \n",
       "\n",
       "                 umpire1        umpire2        reserve_umpire  \\\n",
       "0            Nitin Menon     HAS Khalid             A Bengeri   \n",
       "1           BNJ Oxenford       YC Barde              PM Joshi   \n",
       "2           AK Chaudhary  NA Patwardhan            M Kuppuraj   \n",
       "3  KN Ananthapadmanabhan       R Pandit  Abhijit Bhattacharya   \n",
       "4            Nitin Menon   Tapan Sharma             A Bengeri   \n",
       "\n",
       "     match_referee                       winner  winner_runs  winner_wickets  \\\n",
       "0        J Srinath               Gujarat Titans          NaN             5.0   \n",
       "1         M Nayyar                 Punjab Kings          7.0             NaN   \n",
       "2       DS Manohar         Lucknow Super Giants         50.0             NaN   \n",
       "3  V Narayan Kutty             Rajasthan Royals         72.0             NaN   \n",
       "4        J Srinath  Royal Challengers Bangalore          NaN             8.0   \n",
       "\n",
       "  match_type  \n",
       "0      Group  \n",
       "1      Group  \n",
       "2      Group  \n",
       "3      Group  \n",
       "4      Group  "
      ]
     },
     "execution_count": 66,
     "metadata": {},
     "output_type": "execute_result"
    }
   ],
   "source": [
    "bat_first = ds[ds['winner_runs']!=0]\n",
    "bat_first.head()\n"
   ]
  },
  {
   "cell_type": "code",
   "execution_count": 70,
   "id": "1f2701b6-89df-4e4f-b63d-f729dd9ae425",
   "metadata": {},
   "outputs": [
    {
     "data": {
      "text/plain": [
       "Text(0.5, 0, 'Runs')"
      ]
     },
     "execution_count": 70,
     "metadata": {},
     "output_type": "execute_result"
    },
    {
     "data": {
      "image/png": "[encoded data removed]",
      "text/plain": [
       "<Figure size 500x500 with 1 Axes>"
      ]
     },
     "metadata": {},
     "output_type": "display_data"
    }
   ],
   "source": [
    "plt.figure(figsize=(5,5))\n",
    "plt.hist(bat_first['winner_runs'])\n",
    "plt.title(\"Win by runs \")\n",
    "plt.xlabel(\"Runs\")"
   ]
  },
  {
   "cell_type": "code",
   "execution_count": 74,
   "id": "023874fe-771c-4ca6-899d-d8f5f87e73b0",
   "metadata": {},
   "outputs": [
    {
     "data": {
      "text/html": [
       "<div>\n",
       "<style scoped>\n",
       "    .dataframe tbody tr th:only-of-type {\n",
       "        vertical-align: middle;\n",
       "    }\n",
       "\n",
       "    .dataframe tbody tr th {\n",
       "        vertical-align: top;\n",
       "    }\n",
       "\n",
       "    .dataframe thead th {\n",
       "        text-align: right;\n",
       "    }\n",
       "</style>\n",
       "<table border=\"1\" class=\"dataframe\">\n",
       "  <thead>\n",
       "    <tr style=\"text-align: right;\">\n",
       "      <th></th>\n",
       "      <th>season</th>\n",
       "      <th>team1</th>\n",
       "      <th>team2</th>\n",
       "      <th>date</th>\n",
       "      <th>match_number</th>\n",
       "      <th>venue</th>\n",
       "      <th>city</th>\n",
       "      <th>toss_winner</th>\n",
       "      <th>toss_decision</th>\n",
       "      <th>player_of_match</th>\n",
       "      <th>umpire1</th>\n",
       "      <th>umpire2</th>\n",
       "      <th>reserve_umpire</th>\n",
       "      <th>match_referee</th>\n",
       "      <th>winner</th>\n",
       "      <th>winner_runs</th>\n",
       "      <th>winner_wickets</th>\n",
       "      <th>match_type</th>\n",
       "    </tr>\n",
       "  </thead>\n",
       "  <tbody>\n",
       "    <tr>\n",
       "      <th>59</th>\n",
       "      <td>2023</td>\n",
       "      <td>Royal Challengers Bangalore</td>\n",
       "      <td>Rajasthan Royals</td>\n",
       "      <td>2023/05/14</td>\n",
       "      <td>60</td>\n",
       "      <td>Sawai Mansingh Stadium</td>\n",
       "      <td>Jaipur</td>\n",
       "      <td>Royal Challengers Bangalore</td>\n",
       "      <td>bat</td>\n",
       "      <td>WD Parnell</td>\n",
       "      <td>KN Ananthapadmanabhan</td>\n",
       "      <td>Navdeep Singh</td>\n",
       "      <td>P Joshi</td>\n",
       "      <td>V Narayan Kutty</td>\n",
       "      <td>Royal Challengers Bangalore</td>\n",
       "      <td>112.0</td>\n",
       "      <td>NaN</td>\n",
       "      <td>Group</td>\n",
       "    </tr>\n",
       "  </tbody>\n",
       "</table>\n",
       "</div>"
      ],
      "text/plain": [
       "    season                        team1             team2        date  \\\n",
       "59    2023  Royal Challengers Bangalore  Rajasthan Royals  2023/05/14   \n",
       "\n",
       "    match_number                   venue    city                  toss_winner  \\\n",
       "59            60  Sawai Mansingh Stadium  Jaipur  Royal Challengers Bangalore   \n",
       "\n",
       "   toss_decision player_of_match                umpire1        umpire2  \\\n",
       "59           bat      WD Parnell  KN Ananthapadmanabhan  Navdeep Singh   \n",
       "\n",
       "   reserve_umpire    match_referee                       winner  winner_runs  \\\n",
       "59        P Joshi  V Narayan Kutty  Royal Challengers Bangalore        112.0   \n",
       "\n",
       "    winner_wickets match_type  \n",
       "59             NaN      Group  "
      ]
     },
     "execution_count": 74,
     "metadata": {},
     "output_type": "execute_result"
    }
   ],
   "source": [
    "bw = bat_first[bat_first['winner_runs']>100]\n",
    "bw"
   ]
  },
  {
   "cell_type": "code",
   "execution_count": 77,
   "id": "8283d4b6-149d-467f-be16-89d9acfca2d1",
   "metadata": {},
   "outputs": [
    {
     "data": {
      "text/plain": [
       "winner\n",
       "Gujarat Titans                 11\n",
       "Chennai Super Kings            10\n",
       "Mumbai Indians                  9\n",
       "Lucknow Super Giants            8\n",
       "Rajasthan Royals                7\n",
       "Royal Challengers Bangalore     7\n",
       "Punjab Kings                    6\n",
       "Kolkata Knight Riders           6\n",
       "Delhi Capitals                  5\n",
       "Sunrisers Hyderabad             4\n",
       "No Result                       1\n",
       "Name: count, dtype: int64"
      ]
     },
     "execution_count": 77,
     "metadata": {},
     "output_type": "execute_result"
    }
   ],
   "source": [
    "bfw = bat_first['winner'].value_counts()\n",
    "bfw"
   ]
  },
  {
   "cell_type": "code",
   "execution_count": 87,
   "id": "261f1124-ac99-480a-88cd-ec6a4f74271f",
   "metadata": {},
   "outputs": [
    {
     "data": {
      "image/png": "[encoded data removed]",
      "text/plain": [
       "<Figure size 800x500 with 1 Axes>"
      ]
     },
     "metadata": {},
     "output_type": "display_data"
    }
   ],
   "source": [
    "plt.figure(figsize=(8,5))\n",
    "plt.bar(bat_first['winner'].value_counts()[0:3].keys(),bat_first['winner'].value_counts()[0:3])\n",
    "plt.title(\"Top 3 Team Who bat first and won\")\n",
    "plt.xlabel(\"Teams\")\n",
    "plt.ylabel(\"No of Matches\")\n",
    "plt.show()"
   ]
  },
  {
   "cell_type": "code",
   "execution_count": 90,
   "id": "e5733222-309d-4c84-852d-bf77b424e9d3",
   "metadata": {},
   "outputs": [
    {
     "data": {
      "text/plain": [
       "Text(0.5, 1.0, 'IPL Match Stats of 2023')"
      ]
     },
     "execution_count": 90,
     "metadata": {},
     "output_type": "execute_result"
    },
    {
     "data": {
      "image/png": "[encoded data removed]",
      "text/plain": [
       "<Figure size 640x480 with 1 Axes>"
      ]
     },
     "metadata": {},
     "output_type": "display_data"
    }
   ],
   "source": [
    "plt.pie(bat_first['winner'].value_counts()[0:5],labels=bat_first['winner'].value_counts()[0:5].keys(),autopct='%0.1f%%')\n",
    "plt.title(\"IPL Match Stats of 2023\")"
   ]
  },
  {
   "cell_type": "code",
   "execution_count": 91,
   "id": "6821a7ff-b673-4b4d-b721-3e32cd25b566",
   "metadata": {},
   "outputs": [
    {
     "data": {
      "text/html": [
       "<div>\n",
       "<style scoped>\n",
       "    .dataframe tbody tr th:only-of-type {\n",
       "        vertical-align: middle;\n",
       "    }\n",
       "\n",
       "    .dataframe tbody tr th {\n",
       "        vertical-align: top;\n",
       "    }\n",
       "\n",
       "    .dataframe thead th {\n",
       "        text-align: right;\n",
       "    }\n",
       "</style>\n",
       "<table border=\"1\" class=\"dataframe\">\n",
       "  <thead>\n",
       "    <tr style=\"text-align: right;\">\n",
       "      <th></th>\n",
       "      <th>season</th>\n",
       "      <th>team1</th>\n",
       "      <th>team2</th>\n",
       "      <th>date</th>\n",
       "      <th>match_number</th>\n",
       "      <th>venue</th>\n",
       "      <th>city</th>\n",
       "      <th>toss_winner</th>\n",
       "      <th>toss_decision</th>\n",
       "      <th>player_of_match</th>\n",
       "      <th>umpire1</th>\n",
       "      <th>umpire2</th>\n",
       "      <th>reserve_umpire</th>\n",
       "      <th>match_referee</th>\n",
       "      <th>winner</th>\n",
       "      <th>winner_runs</th>\n",
       "      <th>winner_wickets</th>\n",
       "      <th>match_type</th>\n",
       "    </tr>\n",
       "  </thead>\n",
       "  <tbody>\n",
       "    <tr>\n",
       "      <th>0</th>\n",
       "      <td>2023</td>\n",
       "      <td>Chennai Super Kings</td>\n",
       "      <td>Gujarat Titans</td>\n",
       "      <td>2023/03/31</td>\n",
       "      <td>1</td>\n",
       "      <td>Narendra Modi Stadium</td>\n",
       "      <td>Ahmedabad</td>\n",
       "      <td>Gujarat Titans</td>\n",
       "      <td>field</td>\n",
       "      <td>Rashid Khan</td>\n",
       "      <td>Nitin Menon</td>\n",
       "      <td>HAS Khalid</td>\n",
       "      <td>A Bengeri</td>\n",
       "      <td>J Srinath</td>\n",
       "      <td>Gujarat Titans</td>\n",
       "      <td>NaN</td>\n",
       "      <td>5.0</td>\n",
       "      <td>Group</td>\n",
       "    </tr>\n",
       "    <tr>\n",
       "      <th>1</th>\n",
       "      <td>2023</td>\n",
       "      <td>Punjab Kings</td>\n",
       "      <td>Kolkata Knight Riders</td>\n",
       "      <td>2023/04/01</td>\n",
       "      <td>2</td>\n",
       "      <td>Punjab Cricket Association IS Bindra Stadium</td>\n",
       "      <td>Chandigarh</td>\n",
       "      <td>Kolkata Knight Riders</td>\n",
       "      <td>field</td>\n",
       "      <td>Arshdeep Singh</td>\n",
       "      <td>BNJ Oxenford</td>\n",
       "      <td>YC Barde</td>\n",
       "      <td>PM Joshi</td>\n",
       "      <td>M Nayyar</td>\n",
       "      <td>Punjab Kings</td>\n",
       "      <td>7.0</td>\n",
       "      <td>NaN</td>\n",
       "      <td>Group</td>\n",
       "    </tr>\n",
       "    <tr>\n",
       "      <th>2</th>\n",
       "      <td>2023</td>\n",
       "      <td>Lucknow Super Giants</td>\n",
       "      <td>Delhi Capitals</td>\n",
       "      <td>2023/04/01</td>\n",
       "      <td>3</td>\n",
       "      <td>Bharat Ratna Shri Atal Bihari Vajpayee Ekana C...</td>\n",
       "      <td>Lucknow</td>\n",
       "      <td>Delhi Capitals</td>\n",
       "      <td>field</td>\n",
       "      <td>MA Wood</td>\n",
       "      <td>AK Chaudhary</td>\n",
       "      <td>NA Patwardhan</td>\n",
       "      <td>M Kuppuraj</td>\n",
       "      <td>DS Manohar</td>\n",
       "      <td>Lucknow Super Giants</td>\n",
       "      <td>50.0</td>\n",
       "      <td>NaN</td>\n",
       "      <td>Group</td>\n",
       "    </tr>\n",
       "    <tr>\n",
       "      <th>3</th>\n",
       "      <td>2023</td>\n",
       "      <td>Rajasthan Royals</td>\n",
       "      <td>Sunrisers Hyderabad</td>\n",
       "      <td>2023/04/02</td>\n",
       "      <td>4</td>\n",
       "      <td>Rajiv Gandhi International Stadium</td>\n",
       "      <td>Hyderabad</td>\n",
       "      <td>Sunrisers Hyderabad</td>\n",
       "      <td>field</td>\n",
       "      <td>JC Buttler</td>\n",
       "      <td>KN Ananthapadmanabhan</td>\n",
       "      <td>R Pandit</td>\n",
       "      <td>Abhijit Bhattacharya</td>\n",
       "      <td>V Narayan Kutty</td>\n",
       "      <td>Rajasthan Royals</td>\n",
       "      <td>72.0</td>\n",
       "      <td>NaN</td>\n",
       "      <td>Group</td>\n",
       "    </tr>\n",
       "    <tr>\n",
       "      <th>4</th>\n",
       "      <td>2023</td>\n",
       "      <td>Mumbai Indians</td>\n",
       "      <td>Royal Challengers Bangalore</td>\n",
       "      <td>2023/04/02</td>\n",
       "      <td>5</td>\n",
       "      <td>M Chinnaswamy Stadium</td>\n",
       "      <td>Bengaluru</td>\n",
       "      <td>Royal Challengers Bangalore</td>\n",
       "      <td>field</td>\n",
       "      <td>F du Plessis</td>\n",
       "      <td>Nitin Menon</td>\n",
       "      <td>Tapan Sharma</td>\n",
       "      <td>A Bengeri</td>\n",
       "      <td>J Srinath</td>\n",
       "      <td>Royal Challengers Bangalore</td>\n",
       "      <td>NaN</td>\n",
       "      <td>8.0</td>\n",
       "      <td>Group</td>\n",
       "    </tr>\n",
       "  </tbody>\n",
       "</table>\n",
       "</div>"
      ],
      "text/plain": [
       "   season                 team1                        team2        date  \\\n",
       "0    2023   Chennai Super Kings               Gujarat Titans  2023/03/31   \n",
       "1    2023          Punjab Kings        Kolkata Knight Riders  2023/04/01   \n",
       "2    2023  Lucknow Super Giants               Delhi Capitals  2023/04/01   \n",
       "3    2023      Rajasthan Royals          Sunrisers Hyderabad  2023/04/02   \n",
       "4    2023        Mumbai Indians  Royal Challengers Bangalore  2023/04/02   \n",
       "\n",
       "   match_number                                              venue  \\\n",
       "0             1                              Narendra Modi Stadium   \n",
       "1             2       Punjab Cricket Association IS Bindra Stadium   \n",
       "2             3  Bharat Ratna Shri Atal Bihari Vajpayee Ekana C...   \n",
       "3             4                 Rajiv Gandhi International Stadium   \n",
       "4             5                              M Chinnaswamy Stadium   \n",
       "\n",
       "         city                  toss_winner toss_decision player_of_match  \\\n",
       "0   Ahmedabad               Gujarat Titans         field     Rashid Khan   \n",
       "1  Chandigarh        Kolkata Knight Riders         field  Arshdeep Singh   \n",
       "2     Lucknow               Delhi Capitals         field         MA Wood   \n",
       "3   Hyderabad          Sunrisers Hyderabad         field      JC Buttler   \n",
       "4   Bengaluru  Royal Challengers Bangalore         field    F du Plessis   \n",
       "\n",
       "                 umpire1        umpire2        reserve_umpire  \\\n",
       "0            Nitin Menon     HAS Khalid             A Bengeri   \n",
       "1           BNJ Oxenford       YC Barde              PM Joshi   \n",
       "2           AK Chaudhary  NA Patwardhan            M Kuppuraj   \n",
       "3  KN Ananthapadmanabhan       R Pandit  Abhijit Bhattacharya   \n",
       "4            Nitin Menon   Tapan Sharma             A Bengeri   \n",
       "\n",
       "     match_referee                       winner  winner_runs  winner_wickets  \\\n",
       "0        J Srinath               Gujarat Titans          NaN             5.0   \n",
       "1         M Nayyar                 Punjab Kings          7.0             NaN   \n",
       "2       DS Manohar         Lucknow Super Giants         50.0             NaN   \n",
       "3  V Narayan Kutty             Rajasthan Royals         72.0             NaN   \n",
       "4        J Srinath  Royal Challengers Bangalore          NaN             8.0   \n",
       "\n",
       "  match_type  \n",
       "0      Group  \n",
       "1      Group  \n",
       "2      Group  \n",
       "3      Group  \n",
       "4      Group  "
      ]
     },
     "execution_count": 91,
     "metadata": {},
     "output_type": "execute_result"
    }
   ],
   "source": [
    "ds.head()\n"
   ]
  },
  {
   "cell_type": "code",
   "execution_count": 99,
   "id": "39e33fc7-809b-4027-a70c-ba489bdd7c47",
   "metadata": {},
   "outputs": [
    {
     "data": {
      "text/html": [
       "<div>\n",
       "<style scoped>\n",
       "    .dataframe tbody tr th:only-of-type {\n",
       "        vertical-align: middle;\n",
       "    }\n",
       "\n",
       "    .dataframe tbody tr th {\n",
       "        vertical-align: top;\n",
       "    }\n",
       "\n",
       "    .dataframe thead th {\n",
       "        text-align: right;\n",
       "    }\n",
       "</style>\n",
       "<table border=\"1\" class=\"dataframe\">\n",
       "  <thead>\n",
       "    <tr style=\"text-align: right;\">\n",
       "      <th></th>\n",
       "      <th>season</th>\n",
       "      <th>team1</th>\n",
       "      <th>team2</th>\n",
       "      <th>date</th>\n",
       "      <th>match_number</th>\n",
       "      <th>venue</th>\n",
       "      <th>city</th>\n",
       "      <th>toss_winner</th>\n",
       "      <th>toss_decision</th>\n",
       "      <th>player_of_match</th>\n",
       "      <th>umpire1</th>\n",
       "      <th>umpire2</th>\n",
       "      <th>reserve_umpire</th>\n",
       "      <th>match_referee</th>\n",
       "      <th>winner</th>\n",
       "      <th>winner_runs</th>\n",
       "      <th>winner_wickets</th>\n",
       "      <th>match_type</th>\n",
       "    </tr>\n",
       "  </thead>\n",
       "  <tbody>\n",
       "    <tr>\n",
       "      <th>0</th>\n",
       "      <td>2023</td>\n",
       "      <td>Chennai Super Kings</td>\n",
       "      <td>Gujarat Titans</td>\n",
       "      <td>2023/03/31</td>\n",
       "      <td>1</td>\n",
       "      <td>Narendra Modi Stadium</td>\n",
       "      <td>Ahmedabad</td>\n",
       "      <td>Gujarat Titans</td>\n",
       "      <td>field</td>\n",
       "      <td>Rashid Khan</td>\n",
       "      <td>Nitin Menon</td>\n",
       "      <td>HAS Khalid</td>\n",
       "      <td>A Bengeri</td>\n",
       "      <td>J Srinath</td>\n",
       "      <td>Gujarat Titans</td>\n",
       "      <td>NaN</td>\n",
       "      <td>5.0</td>\n",
       "      <td>Group</td>\n",
       "    </tr>\n",
       "    <tr>\n",
       "      <th>1</th>\n",
       "      <td>2023</td>\n",
       "      <td>Punjab Kings</td>\n",
       "      <td>Kolkata Knight Riders</td>\n",
       "      <td>2023/04/01</td>\n",
       "      <td>2</td>\n",
       "      <td>Punjab Cricket Association IS Bindra Stadium</td>\n",
       "      <td>Chandigarh</td>\n",
       "      <td>Kolkata Knight Riders</td>\n",
       "      <td>field</td>\n",
       "      <td>Arshdeep Singh</td>\n",
       "      <td>BNJ Oxenford</td>\n",
       "      <td>YC Barde</td>\n",
       "      <td>PM Joshi</td>\n",
       "      <td>M Nayyar</td>\n",
       "      <td>Punjab Kings</td>\n",
       "      <td>7.0</td>\n",
       "      <td>NaN</td>\n",
       "      <td>Group</td>\n",
       "    </tr>\n",
       "    <tr>\n",
       "      <th>2</th>\n",
       "      <td>2023</td>\n",
       "      <td>Lucknow Super Giants</td>\n",
       "      <td>Delhi Capitals</td>\n",
       "      <td>2023/04/01</td>\n",
       "      <td>3</td>\n",
       "      <td>Bharat Ratna Shri Atal Bihari Vajpayee Ekana C...</td>\n",
       "      <td>Lucknow</td>\n",
       "      <td>Delhi Capitals</td>\n",
       "      <td>field</td>\n",
       "      <td>MA Wood</td>\n",
       "      <td>AK Chaudhary</td>\n",
       "      <td>NA Patwardhan</td>\n",
       "      <td>M Kuppuraj</td>\n",
       "      <td>DS Manohar</td>\n",
       "      <td>Lucknow Super Giants</td>\n",
       "      <td>50.0</td>\n",
       "      <td>NaN</td>\n",
       "      <td>Group</td>\n",
       "    </tr>\n",
       "    <tr>\n",
       "      <th>3</th>\n",
       "      <td>2023</td>\n",
       "      <td>Rajasthan Royals</td>\n",
       "      <td>Sunrisers Hyderabad</td>\n",
       "      <td>2023/04/02</td>\n",
       "      <td>4</td>\n",
       "      <td>Rajiv Gandhi International Stadium</td>\n",
       "      <td>Hyderabad</td>\n",
       "      <td>Sunrisers Hyderabad</td>\n",
       "      <td>field</td>\n",
       "      <td>JC Buttler</td>\n",
       "      <td>KN Ananthapadmanabhan</td>\n",
       "      <td>R Pandit</td>\n",
       "      <td>Abhijit Bhattacharya</td>\n",
       "      <td>V Narayan Kutty</td>\n",
       "      <td>Rajasthan Royals</td>\n",
       "      <td>72.0</td>\n",
       "      <td>NaN</td>\n",
       "      <td>Group</td>\n",
       "    </tr>\n",
       "    <tr>\n",
       "      <th>4</th>\n",
       "      <td>2023</td>\n",
       "      <td>Mumbai Indians</td>\n",
       "      <td>Royal Challengers Bangalore</td>\n",
       "      <td>2023/04/02</td>\n",
       "      <td>5</td>\n",
       "      <td>M Chinnaswamy Stadium</td>\n",
       "      <td>Bengaluru</td>\n",
       "      <td>Royal Challengers Bangalore</td>\n",
       "      <td>field</td>\n",
       "      <td>F du Plessis</td>\n",
       "      <td>Nitin Menon</td>\n",
       "      <td>Tapan Sharma</td>\n",
       "      <td>A Bengeri</td>\n",
       "      <td>J Srinath</td>\n",
       "      <td>Royal Challengers Bangalore</td>\n",
       "      <td>NaN</td>\n",
       "      <td>8.0</td>\n",
       "      <td>Group</td>\n",
       "    </tr>\n",
       "  </tbody>\n",
       "</table>\n",
       "</div>"
      ],
      "text/plain": [
       "   season                 team1                        team2        date  \\\n",
       "0    2023   Chennai Super Kings               Gujarat Titans  2023/03/31   \n",
       "1    2023          Punjab Kings        Kolkata Knight Riders  2023/04/01   \n",
       "2    2023  Lucknow Super Giants               Delhi Capitals  2023/04/01   \n",
       "3    2023      Rajasthan Royals          Sunrisers Hyderabad  2023/04/02   \n",
       "4    2023        Mumbai Indians  Royal Challengers Bangalore  2023/04/02   \n",
       "\n",
       "   match_number                                              venue  \\\n",
       "0             1                              Narendra Modi Stadium   \n",
       "1             2       Punjab Cricket Association IS Bindra Stadium   \n",
       "2             3  Bharat Ratna Shri Atal Bihari Vajpayee Ekana C...   \n",
       "3             4                 Rajiv Gandhi International Stadium   \n",
       "4             5                              M Chinnaswamy Stadium   \n",
       "\n",
       "         city                  toss_winner toss_decision player_of_match  \\\n",
       "0   Ahmedabad               Gujarat Titans         field     Rashid Khan   \n",
       "1  Chandigarh        Kolkata Knight Riders         field  Arshdeep Singh   \n",
       "2     Lucknow               Delhi Capitals         field         MA Wood   \n",
       "3   Hyderabad          Sunrisers Hyderabad         field      JC Buttler   \n",
       "4   Bengaluru  Royal Challengers Bangalore         field    F du Plessis   \n",
       "\n",
       "                 umpire1        umpire2        reserve_umpire  \\\n",
       "0            Nitin Menon     HAS Khalid             A Bengeri   \n",
       "1           BNJ Oxenford       YC Barde              PM Joshi   \n",
       "2           AK Chaudhary  NA Patwardhan            M Kuppuraj   \n",
       "3  KN Ananthapadmanabhan       R Pandit  Abhijit Bhattacharya   \n",
       "4            Nitin Menon   Tapan Sharma             A Bengeri   \n",
       "\n",
       "     match_referee                       winner  winner_runs  winner_wickets  \\\n",
       "0        J Srinath               Gujarat Titans          NaN             5.0   \n",
       "1         M Nayyar                 Punjab Kings          7.0             NaN   \n",
       "2       DS Manohar         Lucknow Super Giants         50.0             NaN   \n",
       "3  V Narayan Kutty             Rajasthan Royals         72.0             NaN   \n",
       "4        J Srinath  Royal Challengers Bangalore          NaN             8.0   \n",
       "\n",
       "  match_type  \n",
       "0      Group  \n",
       "1      Group  \n",
       "2      Group  \n",
       "3      Group  \n",
       "4      Group  "
      ]
     },
     "execution_count": 99,
     "metadata": {},
     "output_type": "execute_result"
    }
   ],
   "source": [
    "bat_second = ds[ds['winner_wickets']!=0]\n",
    "bat_second.head()"
   ]
  },
  {
   "cell_type": "code",
   "execution_count": 107,
   "id": "8a5c0bb4-a1c3-4d3b-8f2f-561a96eb832f",
   "metadata": {},
   "outputs": [
    {
     "data": {
      "image/png": "[encoded data removed]",
      "text/plain": [
       "<Figure size 500x500 with 1 Axes>"
      ]
     },
     "metadata": {},
     "output_type": "display_data"
    }
   ],
   "source": [
    "plt.figure(figsize=(5,5))\n",
    "plt.hist(bat_second['winner_wickets'],bins=20)\n",
    "plt.title(\"No of teams who bat second and won the match\")\n",
    "plt.ylabel(\"No of matches\")\n",
    "plt.xlabel(\"No of Wickets\")\n",
    "plt.show()"
   ]
  },
  {
   "cell_type": "code",
   "execution_count": 109,
   "id": "bebe6f58-cdd4-447a-ab8c-488735302f10",
   "metadata": {},
   "outputs": [
    {
     "data": {
      "text/plain": [
       "winner_wickets\n",
       "6.0    9\n",
       "5.0    5\n",
       "7.0    5\n",
       "8.0    4\n",
       "4.0    4\n",
       "3.0    2\n",
       "9.0    2\n",
       "1.0    1\n",
       "2.0    1\n",
       "Name: count, dtype: int64"
      ]
     },
     "execution_count": 109,
     "metadata": {},
     "output_type": "execute_result"
    }
   ],
   "source": [
    "# in general no of macthes won \n",
    "ingen = ds['winner_wickets'].value_counts()\n",
    "ingen"
   ]
  },
  {
   "cell_type": "code",
   "execution_count": 110,
   "id": "5a20a9f3-8686-4d75-8565-3702bc43f53f",
   "metadata": {},
   "outputs": [
    {
     "data": {
      "text/plain": [
       "(74, 18)"
      ]
     },
     "execution_count": 110,
     "metadata": {},
     "output_type": "execute_result"
    }
   ],
   "source": [
    "ds.shape"
   ]
  },
  {
   "cell_type": "code",
   "execution_count": 112,
   "id": "08978815-fc40-4cc5-8b0a-13efed9d4588",
   "metadata": {},
   "outputs": [
    {
     "data": {
      "text/plain": [
       "winner\n",
       "Gujarat Titans                 11\n",
       "Chennai Super Kings            10\n",
       "Mumbai Indians                  9\n",
       "Lucknow Super Giants            8\n",
       "Rajasthan Royals                7\n",
       "Royal Challengers Bangalore     7\n",
       "Punjab Kings                    6\n",
       "Kolkata Knight Riders           6\n",
       "Delhi Capitals                  5\n",
       "Sunrisers Hyderabad             4\n",
       "No Result                       1\n",
       "Name: count, dtype: int64"
      ]
     },
     "execution_count": 112,
     "metadata": {},
     "output_type": "execute_result"
    }
   ],
   "source": [
    "bat_second['winner'].value_counts()"
   ]
  },
  {
   "cell_type": "code",
   "execution_count": 125,
   "id": "81a6a3e9-69ba-4c1e-8926-988d50d1a490",
   "metadata": {},
   "outputs": [
    {
     "data": {
      "image/png": "[encoded data removed]",
      "text/plain": [
       "<Figure size 700x700 with 1 Axes>"
      ]
     },
     "metadata": {},
     "output_type": "display_data"
    }
   ],
   "source": [
    "plt.figure(figsize=(7,7))\n",
    "plt.pie(bat_second['winner'].value_counts()[0:5],labels=bat_second['winner'].value_counts()[0:5].keys(),autopct=\"%0.1f%%\")\n",
    "plt.title(\"Teams who bat second and won\")\n",
    "plt.show()"
   ]
  },
  {
   "cell_type": "code",
   "execution_count": 129,
   "id": "80ce4118-877b-4278-99bb-e5a50e00dd9a",
   "metadata": {},
   "outputs": [
    {
     "data": {
      "text/plain": [
       "<BarContainer object of 3 artists>"
      ]
     },
     "execution_count": 129,
     "metadata": {},
     "output_type": "execute_result"
    },
    {
     "data": {
      "image/png": "[encoded data removed]",
      "text/plain": [
       "<Figure size 800x500 with 1 Axes>"
      ]
     },
     "metadata": {},
     "output_type": "display_data"
    }
   ],
   "source": [
    "plt.figure(figsize=(8,5))\n",
    "plt.bar(bat_second['winner'].value_counts()[0:3].keys(),bat_second['winner'].value_counts()[0:3])"
   ]
  },
  {
   "cell_type": "code",
   "execution_count": 130,
   "id": "437f4212-351c-49ee-ade1-9ea9e9b901d8",
   "metadata": {},
   "outputs": [
    {
     "data": {
      "text/plain": [
       "city\n",
       "Ahmedabad     9\n",
       "Chennai       9\n",
       "Lucknow       7\n",
       "Hyderabad     7\n",
       "Bengaluru     7\n",
       "Delhi         7\n",
       "Kolkata       7\n",
       "Mumbai        7\n",
       "Chandigarh    5\n",
       "Jaipur        5\n",
       "Guwahati      2\n",
       "Dharamsala    2\n",
       "Name: count, dtype: int64"
      ]
     },
     "execution_count": 130,
     "metadata": {},
     "output_type": "execute_result"
    }
   ],
   "source": [
    "ds['city'].value_counts()"
   ]
  },
  {
   "cell_type": "code",
   "execution_count": 133,
   "id": "64540486-6bd9-4d8c-bc22-5b1b72ad02c7",
   "metadata": {},
   "outputs": [
    {
     "data": {
      "text/plain": [
       "Text(0.5, 1.0, 'IPL-2023 No of match cities')"
      ]
     },
     "execution_count": 133,
     "metadata": {},
     "output_type": "execute_result"
    },
    {
     "data": {
      "image/png": "[encoded data removed]",
      "text/plain": [
       "<Figure size 700x700 with 1 Axes>"
      ]
     },
     "metadata": {},
     "output_type": "display_data"
    }
   ],
   "source": [
    "plt.figure(figsize=(7,7))\n",
    "plt.pie(ds['city'].value_counts(),labels=ds['city'].value_counts().keys(),autopct=\"%0.1f%%\")\n",
    "plt.title(\"IPL-2023 No of match cities\")"
   ]
  },
  {
   "cell_type": "code",
   "execution_count": 134,
   "id": "9babb5fd-7ad1-48a7-8e42-3907b30b8527",
   "metadata": {},
   "outputs": [
    {
     "data": {
      "text/plain": [
       "season\n",
       "2023    74\n",
       "Name: count, dtype: int64"
      ]
     },
     "execution_count": 134,
     "metadata": {},
     "output_type": "execute_result"
    }
   ],
   "source": [
    "ds['season'].value_counts()"
   ]
  },
  {
   "cell_type": "code",
   "execution_count": 136,
   "id": "22d1f494-0045-4cd2-b8bb-8d538e6d73eb",
   "metadata": {},
   "outputs": [
    {
     "data": {
      "text/plain": [
       "34"
      ]
     },
     "execution_count": 136,
     "metadata": {},
     "output_type": "execute_result"
    }
   ],
   "source": [
    "np.sum(ds['toss_winner']==ds['winner'])"
   ]
  },
  {
   "cell_type": "code",
   "execution_count": 137,
   "id": "667a39c1-d936-4e00-974b-c574439b52dc",
   "metadata": {},
   "outputs": [
    {
     "data": {
      "text/plain": [
       "0.4594594594594595"
      ]
     },
     "execution_count": 137,
     "metadata": {},
     "output_type": "execute_result"
    }
   ],
   "source": [
    "34/74"
   ]
  },
  {
   "cell_type": "code",
   "execution_count": 139,
   "id": "ca1c41fa-83fd-4895-bafc-1f49007147dc",
   "metadata": {},
   "outputs": [
    {
     "data": {
      "text/html": [
       "<div>\n",
       "<style scoped>\n",
       "    .dataframe tbody tr th:only-of-type {\n",
       "        vertical-align: middle;\n",
       "    }\n",
       "\n",
       "    .dataframe tbody tr th {\n",
       "        vertical-align: top;\n",
       "    }\n",
       "\n",
       "    .dataframe thead th {\n",
       "        text-align: right;\n",
       "    }\n",
       "</style>\n",
       "<table border=\"1\" class=\"dataframe\">\n",
       "  <thead>\n",
       "    <tr style=\"text-align: right;\">\n",
       "      <th></th>\n",
       "      <th>match_id</th>\n",
       "      <th>season</th>\n",
       "      <th>start_date</th>\n",
       "      <th>venue</th>\n",
       "      <th>innings</th>\n",
       "      <th>ball</th>\n",
       "      <th>batting_team</th>\n",
       "      <th>bowling_team</th>\n",
       "      <th>striker</th>\n",
       "      <th>non_striker</th>\n",
       "      <th>...</th>\n",
       "      <th>extras</th>\n",
       "      <th>wides</th>\n",
       "      <th>noballs</th>\n",
       "      <th>byes</th>\n",
       "      <th>legbyes</th>\n",
       "      <th>penalty</th>\n",
       "      <th>wicket_type</th>\n",
       "      <th>player_dismissed</th>\n",
       "      <th>other_wicket_type</th>\n",
       "      <th>other_player_dismissed</th>\n",
       "    </tr>\n",
       "  </thead>\n",
       "  <tbody>\n",
       "    <tr>\n",
       "      <th>0</th>\n",
       "      <td>1359475</td>\n",
       "      <td>2023</td>\n",
       "      <td>2023-03-31</td>\n",
       "      <td>Narendra Modi Stadium, Ahmedabad</td>\n",
       "      <td>1</td>\n",
       "      <td>0.1</td>\n",
       "      <td>Chennai Super Kings</td>\n",
       "      <td>Gujarat Titans</td>\n",
       "      <td>DP Conway</td>\n",
       "      <td>RD Gaikwad</td>\n",
       "      <td>...</td>\n",
       "      <td>0</td>\n",
       "      <td>NaN</td>\n",
       "      <td>NaN</td>\n",
       "      <td>NaN</td>\n",
       "      <td>NaN</td>\n",
       "      <td>NaN</td>\n",
       "      <td>NaN</td>\n",
       "      <td>NaN</td>\n",
       "      <td>NaN</td>\n",
       "      <td>NaN</td>\n",
       "    </tr>\n",
       "    <tr>\n",
       "      <th>1</th>\n",
       "      <td>1359475</td>\n",
       "      <td>2023</td>\n",
       "      <td>2023-03-31</td>\n",
       "      <td>Narendra Modi Stadium, Ahmedabad</td>\n",
       "      <td>1</td>\n",
       "      <td>0.2</td>\n",
       "      <td>Chennai Super Kings</td>\n",
       "      <td>Gujarat Titans</td>\n",
       "      <td>DP Conway</td>\n",
       "      <td>RD Gaikwad</td>\n",
       "      <td>...</td>\n",
       "      <td>1</td>\n",
       "      <td>NaN</td>\n",
       "      <td>NaN</td>\n",
       "      <td>NaN</td>\n",
       "      <td>1.0</td>\n",
       "      <td>NaN</td>\n",
       "      <td>NaN</td>\n",
       "      <td>NaN</td>\n",
       "      <td>NaN</td>\n",
       "      <td>NaN</td>\n",
       "    </tr>\n",
       "    <tr>\n",
       "      <th>2</th>\n",
       "      <td>1359475</td>\n",
       "      <td>2023</td>\n",
       "      <td>2023-03-31</td>\n",
       "      <td>Narendra Modi Stadium, Ahmedabad</td>\n",
       "      <td>1</td>\n",
       "      <td>0.3</td>\n",
       "      <td>Chennai Super Kings</td>\n",
       "      <td>Gujarat Titans</td>\n",
       "      <td>RD Gaikwad</td>\n",
       "      <td>DP Conway</td>\n",
       "      <td>...</td>\n",
       "      <td>0</td>\n",
       "      <td>NaN</td>\n",
       "      <td>NaN</td>\n",
       "      <td>NaN</td>\n",
       "      <td>NaN</td>\n",
       "      <td>NaN</td>\n",
       "      <td>NaN</td>\n",
       "      <td>NaN</td>\n",
       "      <td>NaN</td>\n",
       "      <td>NaN</td>\n",
       "    </tr>\n",
       "    <tr>\n",
       "      <th>3</th>\n",
       "      <td>1359475</td>\n",
       "      <td>2023</td>\n",
       "      <td>2023-03-31</td>\n",
       "      <td>Narendra Modi Stadium, Ahmedabad</td>\n",
       "      <td>1</td>\n",
       "      <td>0.4</td>\n",
       "      <td>Chennai Super Kings</td>\n",
       "      <td>Gujarat Titans</td>\n",
       "      <td>RD Gaikwad</td>\n",
       "      <td>DP Conway</td>\n",
       "      <td>...</td>\n",
       "      <td>0</td>\n",
       "      <td>NaN</td>\n",
       "      <td>NaN</td>\n",
       "      <td>NaN</td>\n",
       "      <td>NaN</td>\n",
       "      <td>NaN</td>\n",
       "      <td>NaN</td>\n",
       "      <td>NaN</td>\n",
       "      <td>NaN</td>\n",
       "      <td>NaN</td>\n",
       "    </tr>\n",
       "    <tr>\n",
       "      <th>4</th>\n",
       "      <td>1359475</td>\n",
       "      <td>2023</td>\n",
       "      <td>2023-03-31</td>\n",
       "      <td>Narendra Modi Stadium, Ahmedabad</td>\n",
       "      <td>1</td>\n",
       "      <td>0.5</td>\n",
       "      <td>Chennai Super Kings</td>\n",
       "      <td>Gujarat Titans</td>\n",
       "      <td>DP Conway</td>\n",
       "      <td>RD Gaikwad</td>\n",
       "      <td>...</td>\n",
       "      <td>0</td>\n",
       "      <td>NaN</td>\n",
       "      <td>NaN</td>\n",
       "      <td>NaN</td>\n",
       "      <td>NaN</td>\n",
       "      <td>NaN</td>\n",
       "      <td>NaN</td>\n",
       "      <td>NaN</td>\n",
       "      <td>NaN</td>\n",
       "      <td>NaN</td>\n",
       "    </tr>\n",
       "  </tbody>\n",
       "</table>\n",
       "<p>5 rows × 22 columns</p>\n",
       "</div>"
      ],
      "text/plain": [
       "   match_id  season  start_date                             venue  innings  \\\n",
       "0   1359475    2023  2023-03-31  Narendra Modi Stadium, Ahmedabad        1   \n",
       "1   1359475    2023  2023-03-31  Narendra Modi Stadium, Ahmedabad        1   \n",
       "2   1359475    2023  2023-03-31  Narendra Modi Stadium, Ahmedabad        1   \n",
       "3   1359475    2023  2023-03-31  Narendra Modi Stadium, Ahmedabad        1   \n",
       "4   1359475    2023  2023-03-31  Narendra Modi Stadium, Ahmedabad        1   \n",
       "\n",
       "   ball         batting_team    bowling_team     striker non_striker  ...  \\\n",
       "0   0.1  Chennai Super Kings  Gujarat Titans   DP Conway  RD Gaikwad  ...   \n",
       "1   0.2  Chennai Super Kings  Gujarat Titans   DP Conway  RD Gaikwad  ...   \n",
       "2   0.3  Chennai Super Kings  Gujarat Titans  RD Gaikwad   DP Conway  ...   \n",
       "3   0.4  Chennai Super Kings  Gujarat Titans  RD Gaikwad   DP Conway  ...   \n",
       "4   0.5  Chennai Super Kings  Gujarat Titans   DP Conway  RD Gaikwad  ...   \n",
       "\n",
       "  extras  wides  noballs  byes  legbyes  penalty  wicket_type  \\\n",
       "0      0    NaN      NaN   NaN      NaN      NaN          NaN   \n",
       "1      1    NaN      NaN   NaN      1.0      NaN          NaN   \n",
       "2      0    NaN      NaN   NaN      NaN      NaN          NaN   \n",
       "3      0    NaN      NaN   NaN      NaN      NaN          NaN   \n",
       "4      0    NaN      NaN   NaN      NaN      NaN          NaN   \n",
       "\n",
       "   player_dismissed other_wicket_type other_player_dismissed  \n",
       "0               NaN               NaN                    NaN  \n",
       "1               NaN               NaN                    NaN  \n",
       "2               NaN               NaN                    NaN  \n",
       "3               NaN               NaN                    NaN  \n",
       "4               NaN               NaN                    NaN  \n",
       "\n",
       "[5 rows x 22 columns]"
      ]
     },
     "execution_count": 139,
     "metadata": {},
     "output_type": "execute_result"
    }
   ],
   "source": [
    "ds2.head()"
   ]
  },
  {
   "cell_type": "code",
   "execution_count": 140,
   "id": "cc292b05-b49d-44bd-874c-de038e4f8933",
   "metadata": {},
   "outputs": [
    {
     "data": {
      "text/plain": [
       "array([1359475, 1359476, 1359477, 1359478, 1359479, 1359480, 1359481,\n",
       "       1359482, 1359483, 1359484, 1359485, 1359486, 1359487, 1359488,\n",
       "       1359489, 1359490, 1359491, 1359492, 1359493, 1359494, 1359495,\n",
       "       1359496, 1359497, 1359498, 1359499, 1359500, 1359501, 1359502,\n",
       "       1359503, 1359504, 1359505, 1359506, 1359507, 1359508, 1359509,\n",
       "       1359510, 1359511, 1359512, 1359513, 1359514, 1359515, 1359516,\n",
       "       1359517, 1359518, 1359519, 1359520, 1359521, 1359522, 1359523,\n",
       "       1359524, 1359525, 1359526, 1359527, 1359528, 1359529, 1359530,\n",
       "       1359531, 1359532, 1359533, 1359534, 1359535, 1359536, 1359537,\n",
       "       1359538, 1359539, 1359540, 1359541, 1359542, 1359543, 1359544,\n",
       "       1370350, 1370351, 1370352, 1370353], dtype=int64)"
      ]
     },
     "execution_count": 140,
     "metadata": {},
     "output_type": "execute_result"
    }
   ],
   "source": [
    "ds2['match_id'].unique()"
   ]
  },
  {
   "cell_type": "code",
   "execution_count": 141,
   "id": "f3f988f6-fd74-49b2-a4b5-76d3aa457e53",
   "metadata": {},
   "outputs": [
    {
     "data": {
      "text/plain": [
       "(17863, 22)"
      ]
     },
     "execution_count": 141,
     "metadata": {},
     "output_type": "execute_result"
    }
   ],
   "source": [
    "ds2.shape"
   ]
  },
  {
   "cell_type": "code",
   "execution_count": 142,
   "id": "d3e99320-8fc7-492e-a466-15e94a152405",
   "metadata": {},
   "outputs": [],
   "source": [
    "match_1 = ds2[ds2['match_id']==1359475]"
   ]
  },
  {
   "cell_type": "code",
   "execution_count": 143,
   "id": "d40cc590-7272-40d9-be59-e9f5d7d2f653",
   "metadata": {},
   "outputs": [
    {
     "data": {
      "text/plain": [
       "(243, 22)"
      ]
     },
     "execution_count": 143,
     "metadata": {},
     "output_type": "execute_result"
    }
   ],
   "source": [
    "match_1.shape"
   ]
  },
  {
   "cell_type": "code",
   "execution_count": 147,
   "id": "a5078fbc-b4ed-408a-919e-792da1579b73",
   "metadata": {},
   "outputs": [
    {
     "data": {
      "text/html": [
       "<div>\n",
       "<style scoped>\n",
       "    .dataframe tbody tr th:only-of-type {\n",
       "        vertical-align: middle;\n",
       "    }\n",
       "\n",
       "    .dataframe tbody tr th {\n",
       "        vertical-align: top;\n",
       "    }\n",
       "\n",
       "    .dataframe thead th {\n",
       "        text-align: right;\n",
       "    }\n",
       "</style>\n",
       "<table border=\"1\" class=\"dataframe\">\n",
       "  <thead>\n",
       "    <tr style=\"text-align: right;\">\n",
       "      <th></th>\n",
       "      <th>match_id</th>\n",
       "      <th>season</th>\n",
       "      <th>start_date</th>\n",
       "      <th>venue</th>\n",
       "      <th>innings</th>\n",
       "      <th>ball</th>\n",
       "      <th>batting_team</th>\n",
       "      <th>bowling_team</th>\n",
       "      <th>striker</th>\n",
       "      <th>non_striker</th>\n",
       "      <th>...</th>\n",
       "      <th>extras</th>\n",
       "      <th>wides</th>\n",
       "      <th>noballs</th>\n",
       "      <th>byes</th>\n",
       "      <th>legbyes</th>\n",
       "      <th>penalty</th>\n",
       "      <th>wicket_type</th>\n",
       "      <th>player_dismissed</th>\n",
       "      <th>other_wicket_type</th>\n",
       "      <th>other_player_dismissed</th>\n",
       "    </tr>\n",
       "  </thead>\n",
       "  <tbody>\n",
       "    <tr>\n",
       "      <th>0</th>\n",
       "      <td>1359475</td>\n",
       "      <td>2023</td>\n",
       "      <td>2023-03-31</td>\n",
       "      <td>Narendra Modi Stadium, Ahmedabad</td>\n",
       "      <td>1</td>\n",
       "      <td>0.1</td>\n",
       "      <td>Chennai Super Kings</td>\n",
       "      <td>Gujarat Titans</td>\n",
       "      <td>DP Conway</td>\n",
       "      <td>RD Gaikwad</td>\n",
       "      <td>...</td>\n",
       "      <td>0</td>\n",
       "      <td>NaN</td>\n",
       "      <td>NaN</td>\n",
       "      <td>NaN</td>\n",
       "      <td>NaN</td>\n",
       "      <td>NaN</td>\n",
       "      <td>NaN</td>\n",
       "      <td>NaN</td>\n",
       "      <td>NaN</td>\n",
       "      <td>NaN</td>\n",
       "    </tr>\n",
       "    <tr>\n",
       "      <th>1</th>\n",
       "      <td>1359475</td>\n",
       "      <td>2023</td>\n",
       "      <td>2023-03-31</td>\n",
       "      <td>Narendra Modi Stadium, Ahmedabad</td>\n",
       "      <td>1</td>\n",
       "      <td>0.2</td>\n",
       "      <td>Chennai Super Kings</td>\n",
       "      <td>Gujarat Titans</td>\n",
       "      <td>DP Conway</td>\n",
       "      <td>RD Gaikwad</td>\n",
       "      <td>...</td>\n",
       "      <td>1</td>\n",
       "      <td>NaN</td>\n",
       "      <td>NaN</td>\n",
       "      <td>NaN</td>\n",
       "      <td>1.0</td>\n",
       "      <td>NaN</td>\n",
       "      <td>NaN</td>\n",
       "      <td>NaN</td>\n",
       "      <td>NaN</td>\n",
       "      <td>NaN</td>\n",
       "    </tr>\n",
       "    <tr>\n",
       "      <th>2</th>\n",
       "      <td>1359475</td>\n",
       "      <td>2023</td>\n",
       "      <td>2023-03-31</td>\n",
       "      <td>Narendra Modi Stadium, Ahmedabad</td>\n",
       "      <td>1</td>\n",
       "      <td>0.3</td>\n",
       "      <td>Chennai Super Kings</td>\n",
       "      <td>Gujarat Titans</td>\n",
       "      <td>RD Gaikwad</td>\n",
       "      <td>DP Conway</td>\n",
       "      <td>...</td>\n",
       "      <td>0</td>\n",
       "      <td>NaN</td>\n",
       "      <td>NaN</td>\n",
       "      <td>NaN</td>\n",
       "      <td>NaN</td>\n",
       "      <td>NaN</td>\n",
       "      <td>NaN</td>\n",
       "      <td>NaN</td>\n",
       "      <td>NaN</td>\n",
       "      <td>NaN</td>\n",
       "    </tr>\n",
       "    <tr>\n",
       "      <th>3</th>\n",
       "      <td>1359475</td>\n",
       "      <td>2023</td>\n",
       "      <td>2023-03-31</td>\n",
       "      <td>Narendra Modi Stadium, Ahmedabad</td>\n",
       "      <td>1</td>\n",
       "      <td>0.4</td>\n",
       "      <td>Chennai Super Kings</td>\n",
       "      <td>Gujarat Titans</td>\n",
       "      <td>RD Gaikwad</td>\n",
       "      <td>DP Conway</td>\n",
       "      <td>...</td>\n",
       "      <td>0</td>\n",
       "      <td>NaN</td>\n",
       "      <td>NaN</td>\n",
       "      <td>NaN</td>\n",
       "      <td>NaN</td>\n",
       "      <td>NaN</td>\n",
       "      <td>NaN</td>\n",
       "      <td>NaN</td>\n",
       "      <td>NaN</td>\n",
       "      <td>NaN</td>\n",
       "    </tr>\n",
       "    <tr>\n",
       "      <th>4</th>\n",
       "      <td>1359475</td>\n",
       "      <td>2023</td>\n",
       "      <td>2023-03-31</td>\n",
       "      <td>Narendra Modi Stadium, Ahmedabad</td>\n",
       "      <td>1</td>\n",
       "      <td>0.5</td>\n",
       "      <td>Chennai Super Kings</td>\n",
       "      <td>Gujarat Titans</td>\n",
       "      <td>DP Conway</td>\n",
       "      <td>RD Gaikwad</td>\n",
       "      <td>...</td>\n",
       "      <td>0</td>\n",
       "      <td>NaN</td>\n",
       "      <td>NaN</td>\n",
       "      <td>NaN</td>\n",
       "      <td>NaN</td>\n",
       "      <td>NaN</td>\n",
       "      <td>NaN</td>\n",
       "      <td>NaN</td>\n",
       "      <td>NaN</td>\n",
       "      <td>NaN</td>\n",
       "    </tr>\n",
       "    <tr>\n",
       "      <th>...</th>\n",
       "      <td>...</td>\n",
       "      <td>...</td>\n",
       "      <td>...</td>\n",
       "      <td>...</td>\n",
       "      <td>...</td>\n",
       "      <td>...</td>\n",
       "      <td>...</td>\n",
       "      <td>...</td>\n",
       "      <td>...</td>\n",
       "      <td>...</td>\n",
       "      <td>...</td>\n",
       "      <td>...</td>\n",
       "      <td>...</td>\n",
       "      <td>...</td>\n",
       "      <td>...</td>\n",
       "      <td>...</td>\n",
       "      <td>...</td>\n",
       "      <td>...</td>\n",
       "      <td>...</td>\n",
       "      <td>...</td>\n",
       "      <td>...</td>\n",
       "    </tr>\n",
       "    <tr>\n",
       "      <th>238</th>\n",
       "      <td>1359475</td>\n",
       "      <td>2023</td>\n",
       "      <td>2023-03-31</td>\n",
       "      <td>Narendra Modi Stadium, Ahmedabad</td>\n",
       "      <td>2</td>\n",
       "      <td>18.5</td>\n",
       "      <td>Gujarat Titans</td>\n",
       "      <td>Chennai Super Kings</td>\n",
       "      <td>Rashid Khan</td>\n",
       "      <td>R Tewatia</td>\n",
       "      <td>...</td>\n",
       "      <td>0</td>\n",
       "      <td>NaN</td>\n",
       "      <td>NaN</td>\n",
       "      <td>NaN</td>\n",
       "      <td>NaN</td>\n",
       "      <td>NaN</td>\n",
       "      <td>NaN</td>\n",
       "      <td>NaN</td>\n",
       "      <td>NaN</td>\n",
       "      <td>NaN</td>\n",
       "    </tr>\n",
       "    <tr>\n",
       "      <th>239</th>\n",
       "      <td>1359475</td>\n",
       "      <td>2023</td>\n",
       "      <td>2023-03-31</td>\n",
       "      <td>Narendra Modi Stadium, Ahmedabad</td>\n",
       "      <td>2</td>\n",
       "      <td>18.6</td>\n",
       "      <td>Gujarat Titans</td>\n",
       "      <td>Chennai Super Kings</td>\n",
       "      <td>Rashid Khan</td>\n",
       "      <td>R Tewatia</td>\n",
       "      <td>...</td>\n",
       "      <td>0</td>\n",
       "      <td>NaN</td>\n",
       "      <td>NaN</td>\n",
       "      <td>NaN</td>\n",
       "      <td>NaN</td>\n",
       "      <td>NaN</td>\n",
       "      <td>NaN</td>\n",
       "      <td>NaN</td>\n",
       "      <td>NaN</td>\n",
       "      <td>NaN</td>\n",
       "    </tr>\n",
       "    <tr>\n",
       "      <th>240</th>\n",
       "      <td>1359475</td>\n",
       "      <td>2023</td>\n",
       "      <td>2023-03-31</td>\n",
       "      <td>Narendra Modi Stadium, Ahmedabad</td>\n",
       "      <td>2</td>\n",
       "      <td>19.1</td>\n",
       "      <td>Gujarat Titans</td>\n",
       "      <td>Chennai Super Kings</td>\n",
       "      <td>R Tewatia</td>\n",
       "      <td>Rashid Khan</td>\n",
       "      <td>...</td>\n",
       "      <td>1</td>\n",
       "      <td>1.0</td>\n",
       "      <td>NaN</td>\n",
       "      <td>NaN</td>\n",
       "      <td>NaN</td>\n",
       "      <td>NaN</td>\n",
       "      <td>NaN</td>\n",
       "      <td>NaN</td>\n",
       "      <td>NaN</td>\n",
       "      <td>NaN</td>\n",
       "    </tr>\n",
       "    <tr>\n",
       "      <th>241</th>\n",
       "      <td>1359475</td>\n",
       "      <td>2023</td>\n",
       "      <td>2023-03-31</td>\n",
       "      <td>Narendra Modi Stadium, Ahmedabad</td>\n",
       "      <td>2</td>\n",
       "      <td>19.2</td>\n",
       "      <td>Gujarat Titans</td>\n",
       "      <td>Chennai Super Kings</td>\n",
       "      <td>R Tewatia</td>\n",
       "      <td>Rashid Khan</td>\n",
       "      <td>...</td>\n",
       "      <td>0</td>\n",
       "      <td>NaN</td>\n",
       "      <td>NaN</td>\n",
       "      <td>NaN</td>\n",
       "      <td>NaN</td>\n",
       "      <td>NaN</td>\n",
       "      <td>NaN</td>\n",
       "      <td>NaN</td>\n",
       "      <td>NaN</td>\n",
       "      <td>NaN</td>\n",
       "    </tr>\n",
       "    <tr>\n",
       "      <th>242</th>\n",
       "      <td>1359475</td>\n",
       "      <td>2023</td>\n",
       "      <td>2023-03-31</td>\n",
       "      <td>Narendra Modi Stadium, Ahmedabad</td>\n",
       "      <td>2</td>\n",
       "      <td>19.3</td>\n",
       "      <td>Gujarat Titans</td>\n",
       "      <td>Chennai Super Kings</td>\n",
       "      <td>R Tewatia</td>\n",
       "      <td>Rashid Khan</td>\n",
       "      <td>...</td>\n",
       "      <td>0</td>\n",
       "      <td>NaN</td>\n",
       "      <td>NaN</td>\n",
       "      <td>NaN</td>\n",
       "      <td>NaN</td>\n",
       "      <td>NaN</td>\n",
       "      <td>NaN</td>\n",
       "      <td>NaN</td>\n",
       "      <td>NaN</td>\n",
       "      <td>NaN</td>\n",
       "    </tr>\n",
       "  </tbody>\n",
       "</table>\n",
       "<p>243 rows × 22 columns</p>\n",
       "</div>"
      ],
      "text/plain": [
       "     match_id  season  start_date                             venue  innings  \\\n",
       "0     1359475    2023  2023-03-31  Narendra Modi Stadium, Ahmedabad        1   \n",
       "1     1359475    2023  2023-03-31  Narendra Modi Stadium, Ahmedabad        1   \n",
       "2     1359475    2023  2023-03-31  Narendra Modi Stadium, Ahmedabad        1   \n",
       "3     1359475    2023  2023-03-31  Narendra Modi Stadium, Ahmedabad        1   \n",
       "4     1359475    2023  2023-03-31  Narendra Modi Stadium, Ahmedabad        1   \n",
       "..        ...     ...         ...                               ...      ...   \n",
       "238   1359475    2023  2023-03-31  Narendra Modi Stadium, Ahmedabad        2   \n",
       "239   1359475    2023  2023-03-31  Narendra Modi Stadium, Ahmedabad        2   \n",
       "240   1359475    2023  2023-03-31  Narendra Modi Stadium, Ahmedabad        2   \n",
       "241   1359475    2023  2023-03-31  Narendra Modi Stadium, Ahmedabad        2   \n",
       "242   1359475    2023  2023-03-31  Narendra Modi Stadium, Ahmedabad        2   \n",
       "\n",
       "     ball         batting_team         bowling_team      striker  non_striker  \\\n",
       "0     0.1  Chennai Super Kings       Gujarat Titans    DP Conway   RD Gaikwad   \n",
       "1     0.2  Chennai Super Kings       Gujarat Titans    DP Conway   RD Gaikwad   \n",
       "2     0.3  Chennai Super Kings       Gujarat Titans   RD Gaikwad    DP Conway   \n",
       "3     0.4  Chennai Super Kings       Gujarat Titans   RD Gaikwad    DP Conway   \n",
       "4     0.5  Chennai Super Kings       Gujarat Titans    DP Conway   RD Gaikwad   \n",
       "..    ...                  ...                  ...          ...          ...   \n",
       "238  18.5       Gujarat Titans  Chennai Super Kings  Rashid Khan    R Tewatia   \n",
       "239  18.6       Gujarat Titans  Chennai Super Kings  Rashid Khan    R Tewatia   \n",
       "240  19.1       Gujarat Titans  Chennai Super Kings    R Tewatia  Rashid Khan   \n",
       "241  19.2       Gujarat Titans  Chennai Super Kings    R Tewatia  Rashid Khan   \n",
       "242  19.3       Gujarat Titans  Chennai Super Kings    R Tewatia  Rashid Khan   \n",
       "\n",
       "     ... extras  wides  noballs  byes  legbyes  penalty  wicket_type  \\\n",
       "0    ...      0    NaN      NaN   NaN      NaN      NaN          NaN   \n",
       "1    ...      1    NaN      NaN   NaN      1.0      NaN          NaN   \n",
       "2    ...      0    NaN      NaN   NaN      NaN      NaN          NaN   \n",
       "3    ...      0    NaN      NaN   NaN      NaN      NaN          NaN   \n",
       "4    ...      0    NaN      NaN   NaN      NaN      NaN          NaN   \n",
       "..   ...    ...    ...      ...   ...      ...      ...          ...   \n",
       "238  ...      0    NaN      NaN   NaN      NaN      NaN          NaN   \n",
       "239  ...      0    NaN      NaN   NaN      NaN      NaN          NaN   \n",
       "240  ...      1    1.0      NaN   NaN      NaN      NaN          NaN   \n",
       "241  ...      0    NaN      NaN   NaN      NaN      NaN          NaN   \n",
       "242  ...      0    NaN      NaN   NaN      NaN      NaN          NaN   \n",
       "\n",
       "     player_dismissed other_wicket_type other_player_dismissed  \n",
       "0                 NaN               NaN                    NaN  \n",
       "1                 NaN               NaN                    NaN  \n",
       "2                 NaN               NaN                    NaN  \n",
       "3                 NaN               NaN                    NaN  \n",
       "4                 NaN               NaN                    NaN  \n",
       "..                ...               ...                    ...  \n",
       "238               NaN               NaN                    NaN  \n",
       "239               NaN               NaN                    NaN  \n",
       "240               NaN               NaN                    NaN  \n",
       "241               NaN               NaN                    NaN  \n",
       "242               NaN               NaN                    NaN  \n",
       "\n",
       "[243 rows x 22 columns]"
      ]
     },
     "execution_count": 147,
     "metadata": {},
     "output_type": "execute_result"
    }
   ],
   "source": [
    "match_1"
   ]
  },
  {
   "cell_type": "code",
   "execution_count": 145,
   "id": "7d99f40c-4dbe-4a9d-b2d6-9873d9a6efe9",
   "metadata": {},
   "outputs": [],
   "source": [
    "csk = match_1[match_1['innings']==1]"
   ]
  },
  {
   "cell_type": "code",
   "execution_count": 146,
   "id": "24b9e7a9-dc74-4b86-9ca7-18cae73119de",
   "metadata": {},
   "outputs": [
    {
     "data": {
      "text/plain": [
       "noballs\n",
       "1.0    1\n",
       "Name: count, dtype: int64"
      ]
     },
     "execution_count": 146,
     "metadata": {},
     "output_type": "execute_result"
    }
   ],
   "source": [
    "csk['noballs'].value_counts()"
   ]
  },
  {
   "cell_type": "code",
   "execution_count": 148,
   "id": "6cd0ea5c-5522-4584-bc56-61a60fb658d8",
   "metadata": {},
   "outputs": [
    {
     "data": {
      "text/plain": [
       "runs_off_bat\n",
       "0    50\n",
       "1    44\n",
       "6    13\n",
       "4    10\n",
       "2     4\n",
       "Name: count, dtype: int64"
      ]
     },
     "execution_count": 148,
     "metadata": {},
     "output_type": "execute_result"
    }
   ],
   "source": [
    "csk['runs_off_bat'].value_counts()"
   ]
  },
  {
   "cell_type": "code",
   "execution_count": 149,
   "id": "a0ce6cd6-32d0-49b4-9f76-c8104749447b",
   "metadata": {},
   "outputs": [
    {
     "data": {
      "text/plain": [
       "striker\n",
       "RD Gaikwad    50\n",
       "S Dube        18\n",
       "MM Ali        17\n",
       "AT Rayudu     12\n",
       "MS Dhoni       7\n",
       "DP Conway      6\n",
       "BA Stokes      6\n",
       "MJ Santner     3\n",
       "RA Jadeja      2\n",
       "Name: count, dtype: int64"
      ]
     },
     "execution_count": 149,
     "metadata": {},
     "output_type": "execute_result"
    }
   ],
   "source": [
    "csk['striker'].value_counts()"
   ]
  },
  {
   "cell_type": "code",
   "execution_count": 152,
   "id": "c34a0854-f5a2-4896-9412-7cd4dd412025",
   "metadata": {},
   "outputs": [
    {
     "data": {
      "text/plain": [
       "Text(0.5, 1.0, 'Series - 1 CSK vs GT Match Runs by each Player')"
      ]
     },
     "execution_count": 152,
     "metadata": {},
     "output_type": "execute_result"
    },
    {
     "data": {
      "image/png": "[encoded data removed]",
      "text/plain": [
       "<Figure size 700x700 with 1 Axes>"
      ]
     },
     "metadata": {},
     "output_type": "display_data"
    }
   ],
   "source": [
    "plt.figure(figsize=(7,7))\n",
    "plt.pie(csk['striker'].value_counts(),labels=csk['striker'].value_counts().keys(),autopct=\"%0.1f%%\")\n",
    "plt.title(\"Series - 1 CSK vs GT Match Runs by each Player\")"
   ]
  },
  {
   "cell_type": "code",
   "execution_count": 153,
   "id": "bbbfedfe-21c0-45e7-b257-b7cb8a3f8620",
   "metadata": {},
   "outputs": [
    {
     "data": {
      "text/plain": [
       "wicket_type\n",
       "caught    5\n",
       "bowled    2\n",
       "Name: count, dtype: int64"
      ]
     },
     "execution_count": 153,
     "metadata": {},
     "output_type": "execute_result"
    }
   ],
   "source": [
    "csk['wicket_type'].value_counts()"
   ]
  },
  {
   "cell_type": "code",
   "execution_count": 155,
   "id": "adf8b9cc-aa77-4cd1-915c-7ad9c44dc3b1",
   "metadata": {},
   "outputs": [
    {
     "data": {
      "text/plain": [
       "bowler\n",
       "Mohammed Shami    25\n",
       "J Little          24\n",
       "Rashid Khan       24\n",
       "AS Joseph         24\n",
       "HH Pandya         18\n",
       "Yash Dayal         6\n",
       "Name: count, dtype: int64"
      ]
     },
     "execution_count": 155,
     "metadata": {},
     "output_type": "execute_result"
    }
   ],
   "source": [
    "gt_1=csk['bowler'].value_counts()\n",
    "gt_1"
   ]
  },
  {
   "cell_type": "code",
   "execution_count": 159,
   "id": "00a61add-8eeb-4002-98ee-5bf6401c42dd",
   "metadata": {},
   "outputs": [
    {
     "data": {
      "text/plain": [
       "wicket_type\n",
       "caught    5\n",
       "bowled    2\n",
       "Name: count, dtype: int64"
      ]
     },
     "execution_count": 159,
     "metadata": {},
     "output_type": "execute_result"
    }
   ],
   "source": [
    "csk['wicket_type'].value_counts()"
   ]
  },
  {
   "cell_type": "code",
   "execution_count": 161,
   "id": "0ff4c50c-2c87-4c90-9f18-86feca89b6b1",
   "metadata": {},
   "outputs": [
    {
     "data": {
      "text/plain": [
       "<BarContainer object of 6 artists>"
      ]
     },
     "execution_count": 161,
     "metadata": {},
     "output_type": "execute_result"
    },
    {
     "data": {
      "image/png": "[encoded data removed]",
      "text/plain": [
       "<Figure size 700x700 with 1 Axes>"
      ]
     },
     "metadata": {},
     "output_type": "display_data"
    }
   ],
   "source": [
    "plt.figure(figsize=(7,7))\n",
    "plt.bar(csk['bowler'].value_counts().keys(),csk['bowler'].value_counts())"
   ]
  },
  {
   "cell_type": "code",
   "execution_count": 170,
   "id": "82011486-62fd-4b39-8b00-695f08a45812",
   "metadata": {},
   "outputs": [
    {
     "data": {
      "image/png": "[encoded data removed]",
      "text/plain": [
       "<Figure size 640x480 with 1 Axes>"
      ]
     },
     "metadata": {},
     "output_type": "display_data"
    }
   ],
   "source": [
    "sns.barplot(x=csk['bowler'].value_counts(),y=csk['wicket_type'].value_counts(),data=csk)\n",
    "plt.show()"
   ]
  },
  {
   "cell_type": "code",
   "execution_count": null,
   "id": "2b6b03a4-fd7e-4c49-b83b-ebe0a83285e0",
   "metadata": {},
   "outputs": [],
   "source": []
  }
 ],
 "metadata": {
  "kernelspec": {
   "display_name": "Python 3 (ipykernel)",
   "language": "python",
   "name": "python3"
  },
  "language_info": {
   "codemirror_mode": {
    "name": "ipython",
    "version": 3
   },
   "file_extension": ".py",
   "mimetype": "text/x-python",
   "name": "python",
   "nbconvert_exporter": "python",
   "pygments_lexer": "ipython3",
   "version": "3.11.4"
  }
 },
 "nbformat": 4,
 "nbformat_minor": 5
}
